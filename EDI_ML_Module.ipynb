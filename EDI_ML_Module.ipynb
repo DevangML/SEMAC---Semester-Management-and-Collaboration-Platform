{
 "cells": [
  {
   "cell_type": "code",
   "execution_count": 26,
   "id": "19392e36",
   "metadata": {},
   "outputs": [],
   "source": [
    "#importing the libraries\n",
    "import pandas as pd\n",
    "import numpy as np\n",
    "import matplotlib.pyplot as plt\n",
    "import seaborn as sns\n",
    "import hvplot.pandas"
   ]
  },
  {
   "cell_type": "code",
   "execution_count": 27,
   "id": "61822f62",
   "metadata": {},
   "outputs": [],
   "source": [
    "import os"
   ]
  },
  {
   "cell_type": "code",
   "execution_count": 28,
   "id": "44cd33a7",
   "metadata": {},
   "outputs": [
    {
     "data": {
      "text/plain": [
       "'D:\\\\ISHAN\\\\SY_AI-A_Sem4\\\\EDI\\\\Semac'"
      ]
     },
     "execution_count": 28,
     "metadata": {},
     "output_type": "execute_result"
    }
   ],
   "source": [
    "os.getcwd()"
   ]
  },
  {
   "cell_type": "code",
   "execution_count": 29,
   "id": "283d55c4",
   "metadata": {},
   "outputs": [],
   "source": [
    "os.chdir('D:\\\\ISHAN\\\\SY_AI-A_Sem4\\\\EDI\\\\Semac')"
   ]
  },
  {
   "cell_type": "code",
   "execution_count": 30,
   "id": "5c80b39a",
   "metadata": {},
   "outputs": [
    {
     "data": {
      "text/plain": [
       "'D:\\\\ISHAN\\\\SY_AI-A_Sem4\\\\EDI\\\\Semac'"
      ]
     },
     "execution_count": 30,
     "metadata": {},
     "output_type": "execute_result"
    }
   ],
   "source": [
    "os.getcwd()"
   ]
  },
  {
   "cell_type": "code",
   "execution_count": 31,
   "id": "e4560414",
   "metadata": {},
   "outputs": [],
   "source": [
    "# Functions with use\n",
    "\n",
    "# Core Python\n",
    "\n",
    "## append() --  Adds its argument as a single element to the end of a list. The length of the list increases by one.\n",
    "\n",
    "# Pandas\n",
    "\n",
    "# Numpy"
   ]
  },
  {
   "cell_type": "code",
   "execution_count": 32,
   "id": "75e49a66",
   "metadata": {},
   "outputs": [
    {
     "data": {
      "text/html": [
       "<div>\n",
       "<style scoped>\n",
       "    .dataframe tbody tr th:only-of-type {\n",
       "        vertical-align: middle;\n",
       "    }\n",
       "\n",
       "    .dataframe tbody tr th {\n",
       "        vertical-align: top;\n",
       "    }\n",
       "\n",
       "    .dataframe thead th {\n",
       "        text-align: right;\n",
       "    }\n",
       "</style>\n",
       "<table border=\"1\" class=\"dataframe\">\n",
       "  <thead>\n",
       "    <tr style=\"text-align: right;\">\n",
       "      <th></th>\n",
       "      <th>gender</th>\n",
       "      <th>race/ethnicity</th>\n",
       "      <th>parental level of education</th>\n",
       "      <th>lunch</th>\n",
       "      <th>test preparation course</th>\n",
       "      <th>math score</th>\n",
       "      <th>reading score</th>\n",
       "      <th>writing score</th>\n",
       "      <th>target</th>\n",
       "    </tr>\n",
       "  </thead>\n",
       "  <tbody>\n",
       "    <tr>\n",
       "      <th>0</th>\n",
       "      <td>female</td>\n",
       "      <td>group B</td>\n",
       "      <td>bachelor's degree</td>\n",
       "      <td>standard</td>\n",
       "      <td>none</td>\n",
       "      <td>72</td>\n",
       "      <td>72</td>\n",
       "      <td>74</td>\n",
       "      <td>1</td>\n",
       "    </tr>\n",
       "    <tr>\n",
       "      <th>1</th>\n",
       "      <td>female</td>\n",
       "      <td>group C</td>\n",
       "      <td>some college</td>\n",
       "      <td>standard</td>\n",
       "      <td>completed</td>\n",
       "      <td>69</td>\n",
       "      <td>90</td>\n",
       "      <td>88</td>\n",
       "      <td>1</td>\n",
       "    </tr>\n",
       "    <tr>\n",
       "      <th>2</th>\n",
       "      <td>female</td>\n",
       "      <td>group B</td>\n",
       "      <td>master's degree</td>\n",
       "      <td>standard</td>\n",
       "      <td>none</td>\n",
       "      <td>90</td>\n",
       "      <td>95</td>\n",
       "      <td>93</td>\n",
       "      <td>1</td>\n",
       "    </tr>\n",
       "    <tr>\n",
       "      <th>3</th>\n",
       "      <td>male</td>\n",
       "      <td>group A</td>\n",
       "      <td>associate's degree</td>\n",
       "      <td>free/reduced</td>\n",
       "      <td>none</td>\n",
       "      <td>47</td>\n",
       "      <td>57</td>\n",
       "      <td>44</td>\n",
       "      <td>1</td>\n",
       "    </tr>\n",
       "    <tr>\n",
       "      <th>4</th>\n",
       "      <td>male</td>\n",
       "      <td>group C</td>\n",
       "      <td>some college</td>\n",
       "      <td>standard</td>\n",
       "      <td>none</td>\n",
       "      <td>76</td>\n",
       "      <td>78</td>\n",
       "      <td>75</td>\n",
       "      <td>1</td>\n",
       "    </tr>\n",
       "  </tbody>\n",
       "</table>\n",
       "</div>"
      ],
      "text/plain": [
       "   gender race/ethnicity parental level of education         lunch  \\\n",
       "0  female        group B           bachelor's degree      standard   \n",
       "1  female        group C                some college      standard   \n",
       "2  female        group B             master's degree      standard   \n",
       "3    male        group A          associate's degree  free/reduced   \n",
       "4    male        group C                some college      standard   \n",
       "\n",
       "  test preparation course  math score  reading score  writing score  target  \n",
       "0                    none          72             72             74       1  \n",
       "1               completed          69             90             88       1  \n",
       "2                    none          90             95             93       1  \n",
       "3                    none          47             57             44       1  \n",
       "4                    none          76             78             75       1  "
      ]
     },
     "execution_count": 32,
     "metadata": {},
     "output_type": "execute_result"
    }
   ],
   "source": [
    "#importing dataset\n",
    "df = pd.read_csv('StudentsPerformance.csv')\n",
    "df.head()"
   ]
  },
  {
   "cell_type": "code",
   "execution_count": 33,
   "id": "1a658d50",
   "metadata": {},
   "outputs": [
    {
     "name": "stdout",
     "output_type": "stream",
     "text": [
      "<class 'pandas.core.frame.DataFrame'>\n",
      "RangeIndex: 1000 entries, 0 to 999\n",
      "Data columns (total 9 columns):\n",
      " #   Column                       Non-Null Count  Dtype \n",
      "---  ------                       --------------  ----- \n",
      " 0   gender                       1000 non-null   object\n",
      " 1   race/ethnicity               1000 non-null   object\n",
      " 2   parental level of education  1000 non-null   object\n",
      " 3   lunch                        1000 non-null   object\n",
      " 4   test preparation course      1000 non-null   object\n",
      " 5   math score                   1000 non-null   int64 \n",
      " 6   reading score                1000 non-null   int64 \n",
      " 7   writing score                1000 non-null   int64 \n",
      " 8   target                       1000 non-null   int64 \n",
      "dtypes: int64(4), object(5)\n",
      "memory usage: 70.4+ KB\n"
     ]
    }
   ],
   "source": [
    "#dataset info(MetaData)\n",
    "df.info()"
   ]
  },
  {
   "cell_type": "code",
   "execution_count": 34,
   "id": "732c30e6",
   "metadata": {},
   "outputs": [
    {
     "data": {
      "text/plain": [
       "(1000, 9)"
      ]
     },
     "execution_count": 34,
     "metadata": {},
     "output_type": "execute_result"
    }
   ],
   "source": [
    "# Dimensionality Analysis\n",
    "df.shape"
   ]
  },
  {
   "cell_type": "code",
   "execution_count": 35,
   "id": "0fa58592",
   "metadata": {},
   "outputs": [
    {
     "data": {
      "text/html": [
       "<div>\n",
       "<style scoped>\n",
       "    .dataframe tbody tr th:only-of-type {\n",
       "        vertical-align: middle;\n",
       "    }\n",
       "\n",
       "    .dataframe tbody tr th {\n",
       "        vertical-align: top;\n",
       "    }\n",
       "\n",
       "    .dataframe thead th {\n",
       "        text-align: right;\n",
       "    }\n",
       "</style>\n",
       "<table border=\"1\" class=\"dataframe\">\n",
       "  <thead>\n",
       "    <tr style=\"text-align: right;\">\n",
       "      <th></th>\n",
       "      <th>gender</th>\n",
       "      <th>race/ethnicity</th>\n",
       "      <th>parental level of education</th>\n",
       "      <th>lunch</th>\n",
       "      <th>test preparation course</th>\n",
       "      <th>math score</th>\n",
       "      <th>reading score</th>\n",
       "      <th>writing score</th>\n",
       "      <th>target</th>\n",
       "    </tr>\n",
       "  </thead>\n",
       "  <tbody>\n",
       "    <tr>\n",
       "      <th>0</th>\n",
       "      <td>female</td>\n",
       "      <td>group B</td>\n",
       "      <td>bachelor's degree</td>\n",
       "      <td>standard</td>\n",
       "      <td>none</td>\n",
       "      <td>72</td>\n",
       "      <td>72</td>\n",
       "      <td>74</td>\n",
       "      <td>1</td>\n",
       "    </tr>\n",
       "    <tr>\n",
       "      <th>1</th>\n",
       "      <td>female</td>\n",
       "      <td>group C</td>\n",
       "      <td>some college</td>\n",
       "      <td>standard</td>\n",
       "      <td>completed</td>\n",
       "      <td>69</td>\n",
       "      <td>90</td>\n",
       "      <td>88</td>\n",
       "      <td>1</td>\n",
       "    </tr>\n",
       "    <tr>\n",
       "      <th>2</th>\n",
       "      <td>female</td>\n",
       "      <td>group B</td>\n",
       "      <td>master's degree</td>\n",
       "      <td>standard</td>\n",
       "      <td>none</td>\n",
       "      <td>90</td>\n",
       "      <td>95</td>\n",
       "      <td>93</td>\n",
       "      <td>1</td>\n",
       "    </tr>\n",
       "    <tr>\n",
       "      <th>3</th>\n",
       "      <td>male</td>\n",
       "      <td>group A</td>\n",
       "      <td>associate's degree</td>\n",
       "      <td>free/reduced</td>\n",
       "      <td>none</td>\n",
       "      <td>47</td>\n",
       "      <td>57</td>\n",
       "      <td>44</td>\n",
       "      <td>1</td>\n",
       "    </tr>\n",
       "    <tr>\n",
       "      <th>4</th>\n",
       "      <td>male</td>\n",
       "      <td>group C</td>\n",
       "      <td>some college</td>\n",
       "      <td>standard</td>\n",
       "      <td>none</td>\n",
       "      <td>76</td>\n",
       "      <td>78</td>\n",
       "      <td>75</td>\n",
       "      <td>1</td>\n",
       "    </tr>\n",
       "    <tr>\n",
       "      <th>...</th>\n",
       "      <td>...</td>\n",
       "      <td>...</td>\n",
       "      <td>...</td>\n",
       "      <td>...</td>\n",
       "      <td>...</td>\n",
       "      <td>...</td>\n",
       "      <td>...</td>\n",
       "      <td>...</td>\n",
       "      <td>...</td>\n",
       "    </tr>\n",
       "    <tr>\n",
       "      <th>995</th>\n",
       "      <td>female</td>\n",
       "      <td>group E</td>\n",
       "      <td>master's degree</td>\n",
       "      <td>standard</td>\n",
       "      <td>completed</td>\n",
       "      <td>88</td>\n",
       "      <td>99</td>\n",
       "      <td>95</td>\n",
       "      <td>0</td>\n",
       "    </tr>\n",
       "    <tr>\n",
       "      <th>996</th>\n",
       "      <td>male</td>\n",
       "      <td>group C</td>\n",
       "      <td>high school</td>\n",
       "      <td>free/reduced</td>\n",
       "      <td>none</td>\n",
       "      <td>62</td>\n",
       "      <td>55</td>\n",
       "      <td>55</td>\n",
       "      <td>0</td>\n",
       "    </tr>\n",
       "    <tr>\n",
       "      <th>997</th>\n",
       "      <td>female</td>\n",
       "      <td>group C</td>\n",
       "      <td>high school</td>\n",
       "      <td>free/reduced</td>\n",
       "      <td>completed</td>\n",
       "      <td>59</td>\n",
       "      <td>71</td>\n",
       "      <td>65</td>\n",
       "      <td>0</td>\n",
       "    </tr>\n",
       "    <tr>\n",
       "      <th>998</th>\n",
       "      <td>female</td>\n",
       "      <td>group D</td>\n",
       "      <td>some college</td>\n",
       "      <td>standard</td>\n",
       "      <td>completed</td>\n",
       "      <td>68</td>\n",
       "      <td>78</td>\n",
       "      <td>77</td>\n",
       "      <td>0</td>\n",
       "    </tr>\n",
       "    <tr>\n",
       "      <th>999</th>\n",
       "      <td>female</td>\n",
       "      <td>group D</td>\n",
       "      <td>some college</td>\n",
       "      <td>free/reduced</td>\n",
       "      <td>none</td>\n",
       "      <td>77</td>\n",
       "      <td>86</td>\n",
       "      <td>86</td>\n",
       "      <td>0</td>\n",
       "    </tr>\n",
       "  </tbody>\n",
       "</table>\n",
       "<p>1000 rows × 9 columns</p>\n",
       "</div>"
      ],
      "text/plain": [
       "     gender race/ethnicity parental level of education         lunch  \\\n",
       "0    female        group B           bachelor's degree      standard   \n",
       "1    female        group C                some college      standard   \n",
       "2    female        group B             master's degree      standard   \n",
       "3      male        group A          associate's degree  free/reduced   \n",
       "4      male        group C                some college      standard   \n",
       "..      ...            ...                         ...           ...   \n",
       "995  female        group E             master's degree      standard   \n",
       "996    male        group C                 high school  free/reduced   \n",
       "997  female        group C                 high school  free/reduced   \n",
       "998  female        group D                some college      standard   \n",
       "999  female        group D                some college  free/reduced   \n",
       "\n",
       "    test preparation course  math score  reading score  writing score  target  \n",
       "0                      none          72             72             74       1  \n",
       "1                 completed          69             90             88       1  \n",
       "2                      none          90             95             93       1  \n",
       "3                      none          47             57             44       1  \n",
       "4                      none          76             78             75       1  \n",
       "..                      ...         ...            ...            ...     ...  \n",
       "995               completed          88             99             95       0  \n",
       "996                    none          62             55             55       0  \n",
       "997               completed          59             71             65       0  \n",
       "998               completed          68             78             77       0  \n",
       "999                    none          77             86             86       0  \n",
       "\n",
       "[1000 rows x 9 columns]"
      ]
     },
     "execution_count": 35,
     "metadata": {},
     "output_type": "execute_result"
    }
   ],
   "source": [
    "# Descriptive Statistics\n",
    "summary = df.describe()\n",
    "df"
   ]
  },
  {
   "cell_type": "code",
   "execution_count": 36,
   "id": "fab926ef",
   "metadata": {
    "scrolled": true
   },
   "outputs": [
    {
     "data": {
      "text/html": [
       "<div>\n",
       "<style scoped>\n",
       "    .dataframe tbody tr th:only-of-type {\n",
       "        vertical-align: middle;\n",
       "    }\n",
       "\n",
       "    .dataframe tbody tr th {\n",
       "        vertical-align: top;\n",
       "    }\n",
       "\n",
       "    .dataframe thead th {\n",
       "        text-align: right;\n",
       "    }\n",
       "</style>\n",
       "<table border=\"1\" class=\"dataframe\">\n",
       "  <thead>\n",
       "    <tr style=\"text-align: right;\">\n",
       "      <th></th>\n",
       "      <th>gender</th>\n",
       "      <th>race</th>\n",
       "      <th>parent.ed</th>\n",
       "      <th>lunch</th>\n",
       "      <th>Course_Project Status</th>\n",
       "      <th>GD_Score</th>\n",
       "      <th>GPPT_Score</th>\n",
       "      <th>MSE_Score</th>\n",
       "      <th>target</th>\n",
       "    </tr>\n",
       "  </thead>\n",
       "  <tbody>\n",
       "    <tr>\n",
       "      <th>0</th>\n",
       "      <td>female</td>\n",
       "      <td>group B</td>\n",
       "      <td>bachelor's degree</td>\n",
       "      <td>standard</td>\n",
       "      <td>none</td>\n",
       "      <td>72</td>\n",
       "      <td>72</td>\n",
       "      <td>74</td>\n",
       "      <td>1</td>\n",
       "    </tr>\n",
       "    <tr>\n",
       "      <th>1</th>\n",
       "      <td>female</td>\n",
       "      <td>group C</td>\n",
       "      <td>some college</td>\n",
       "      <td>standard</td>\n",
       "      <td>completed</td>\n",
       "      <td>69</td>\n",
       "      <td>90</td>\n",
       "      <td>88</td>\n",
       "      <td>1</td>\n",
       "    </tr>\n",
       "    <tr>\n",
       "      <th>2</th>\n",
       "      <td>female</td>\n",
       "      <td>group B</td>\n",
       "      <td>master's degree</td>\n",
       "      <td>standard</td>\n",
       "      <td>none</td>\n",
       "      <td>90</td>\n",
       "      <td>95</td>\n",
       "      <td>93</td>\n",
       "      <td>1</td>\n",
       "    </tr>\n",
       "    <tr>\n",
       "      <th>3</th>\n",
       "      <td>male</td>\n",
       "      <td>group A</td>\n",
       "      <td>associate's degree</td>\n",
       "      <td>free/reduced</td>\n",
       "      <td>none</td>\n",
       "      <td>47</td>\n",
       "      <td>57</td>\n",
       "      <td>44</td>\n",
       "      <td>1</td>\n",
       "    </tr>\n",
       "    <tr>\n",
       "      <th>4</th>\n",
       "      <td>male</td>\n",
       "      <td>group C</td>\n",
       "      <td>some college</td>\n",
       "      <td>standard</td>\n",
       "      <td>none</td>\n",
       "      <td>76</td>\n",
       "      <td>78</td>\n",
       "      <td>75</td>\n",
       "      <td>1</td>\n",
       "    </tr>\n",
       "    <tr>\n",
       "      <th>...</th>\n",
       "      <td>...</td>\n",
       "      <td>...</td>\n",
       "      <td>...</td>\n",
       "      <td>...</td>\n",
       "      <td>...</td>\n",
       "      <td>...</td>\n",
       "      <td>...</td>\n",
       "      <td>...</td>\n",
       "      <td>...</td>\n",
       "    </tr>\n",
       "    <tr>\n",
       "      <th>995</th>\n",
       "      <td>female</td>\n",
       "      <td>group E</td>\n",
       "      <td>master's degree</td>\n",
       "      <td>standard</td>\n",
       "      <td>completed</td>\n",
       "      <td>88</td>\n",
       "      <td>99</td>\n",
       "      <td>95</td>\n",
       "      <td>0</td>\n",
       "    </tr>\n",
       "    <tr>\n",
       "      <th>996</th>\n",
       "      <td>male</td>\n",
       "      <td>group C</td>\n",
       "      <td>high school</td>\n",
       "      <td>free/reduced</td>\n",
       "      <td>none</td>\n",
       "      <td>62</td>\n",
       "      <td>55</td>\n",
       "      <td>55</td>\n",
       "      <td>0</td>\n",
       "    </tr>\n",
       "    <tr>\n",
       "      <th>997</th>\n",
       "      <td>female</td>\n",
       "      <td>group C</td>\n",
       "      <td>high school</td>\n",
       "      <td>free/reduced</td>\n",
       "      <td>completed</td>\n",
       "      <td>59</td>\n",
       "      <td>71</td>\n",
       "      <td>65</td>\n",
       "      <td>0</td>\n",
       "    </tr>\n",
       "    <tr>\n",
       "      <th>998</th>\n",
       "      <td>female</td>\n",
       "      <td>group D</td>\n",
       "      <td>some college</td>\n",
       "      <td>standard</td>\n",
       "      <td>completed</td>\n",
       "      <td>68</td>\n",
       "      <td>78</td>\n",
       "      <td>77</td>\n",
       "      <td>0</td>\n",
       "    </tr>\n",
       "    <tr>\n",
       "      <th>999</th>\n",
       "      <td>female</td>\n",
       "      <td>group D</td>\n",
       "      <td>some college</td>\n",
       "      <td>free/reduced</td>\n",
       "      <td>none</td>\n",
       "      <td>77</td>\n",
       "      <td>86</td>\n",
       "      <td>86</td>\n",
       "      <td>0</td>\n",
       "    </tr>\n",
       "  </tbody>\n",
       "</table>\n",
       "<p>1000 rows × 9 columns</p>\n",
       "</div>"
      ],
      "text/plain": [
       "     gender     race           parent.ed         lunch Course_Project Status  \\\n",
       "0    female  group B   bachelor's degree      standard                  none   \n",
       "1    female  group C        some college      standard             completed   \n",
       "2    female  group B     master's degree      standard                  none   \n",
       "3      male  group A  associate's degree  free/reduced                  none   \n",
       "4      male  group C        some college      standard                  none   \n",
       "..      ...      ...                 ...           ...                   ...   \n",
       "995  female  group E     master's degree      standard             completed   \n",
       "996    male  group C         high school  free/reduced                  none   \n",
       "997  female  group C         high school  free/reduced             completed   \n",
       "998  female  group D        some college      standard             completed   \n",
       "999  female  group D        some college  free/reduced                  none   \n",
       "\n",
       "     GD_Score  GPPT_Score  MSE_Score  target  \n",
       "0          72          72         74       1  \n",
       "1          69          90         88       1  \n",
       "2          90          95         93       1  \n",
       "3          47          57         44       1  \n",
       "4          76          78         75       1  \n",
       "..        ...         ...        ...     ...  \n",
       "995        88          99         95       0  \n",
       "996        62          55         55       0  \n",
       "997        59          71         65       0  \n",
       "998        68          78         77       0  \n",
       "999        77          86         86       0  \n",
       "\n",
       "[1000 rows x 9 columns]"
      ]
     },
     "execution_count": 36,
     "metadata": {},
     "output_type": "execute_result"
    }
   ],
   "source": [
    "#Renaming the column names by creating a dictionary\n",
    "\n",
    "dict = {'parental level of education': 'parent.ed',\n",
    "        'test preparation course': 'Course_Project Status',\n",
    "        'math score': 'GD_Score',\n",
    "        'reading score': 'GPPT_Score',\n",
    "        'writing score': 'MSE_Score', \n",
    "       'race/ethnicity': 'race'}\n",
    "\n",
    "df.rename(columns=dict,inplace=True)\n",
    "df"
   ]
  },
  {
   "cell_type": "code",
   "execution_count": 37,
   "id": "9fa6f2a4",
   "metadata": {},
   "outputs": [
    {
     "data": {
      "text/html": [
       "<div>\n",
       "<style scoped>\n",
       "    .dataframe tbody tr th:only-of-type {\n",
       "        vertical-align: middle;\n",
       "    }\n",
       "\n",
       "    .dataframe tbody tr th {\n",
       "        vertical-align: top;\n",
       "    }\n",
       "\n",
       "    .dataframe thead th {\n",
       "        text-align: right;\n",
       "    }\n",
       "</style>\n",
       "<table border=\"1\" class=\"dataframe\">\n",
       "  <thead>\n",
       "    <tr style=\"text-align: right;\">\n",
       "      <th></th>\n",
       "      <th>gender</th>\n",
       "      <th>race</th>\n",
       "      <th>Course_Project Status</th>\n",
       "      <th>GD_Score</th>\n",
       "      <th>GPPT_Score</th>\n",
       "      <th>MSE_Score</th>\n",
       "      <th>target</th>\n",
       "    </tr>\n",
       "  </thead>\n",
       "  <tbody>\n",
       "    <tr>\n",
       "      <th>0</th>\n",
       "      <td>female</td>\n",
       "      <td>group B</td>\n",
       "      <td>none</td>\n",
       "      <td>72</td>\n",
       "      <td>72</td>\n",
       "      <td>74</td>\n",
       "      <td>1</td>\n",
       "    </tr>\n",
       "    <tr>\n",
       "      <th>1</th>\n",
       "      <td>female</td>\n",
       "      <td>group C</td>\n",
       "      <td>completed</td>\n",
       "      <td>69</td>\n",
       "      <td>90</td>\n",
       "      <td>88</td>\n",
       "      <td>1</td>\n",
       "    </tr>\n",
       "    <tr>\n",
       "      <th>2</th>\n",
       "      <td>female</td>\n",
       "      <td>group B</td>\n",
       "      <td>none</td>\n",
       "      <td>90</td>\n",
       "      <td>95</td>\n",
       "      <td>93</td>\n",
       "      <td>1</td>\n",
       "    </tr>\n",
       "    <tr>\n",
       "      <th>3</th>\n",
       "      <td>male</td>\n",
       "      <td>group A</td>\n",
       "      <td>none</td>\n",
       "      <td>47</td>\n",
       "      <td>57</td>\n",
       "      <td>44</td>\n",
       "      <td>1</td>\n",
       "    </tr>\n",
       "    <tr>\n",
       "      <th>4</th>\n",
       "      <td>male</td>\n",
       "      <td>group C</td>\n",
       "      <td>none</td>\n",
       "      <td>76</td>\n",
       "      <td>78</td>\n",
       "      <td>75</td>\n",
       "      <td>1</td>\n",
       "    </tr>\n",
       "  </tbody>\n",
       "</table>\n",
       "</div>"
      ],
      "text/plain": [
       "   gender     race Course_Project Status  GD_Score  GPPT_Score  MSE_Score  \\\n",
       "0  female  group B                  none        72          72         74   \n",
       "1  female  group C             completed        69          90         88   \n",
       "2  female  group B                  none        90          95         93   \n",
       "3    male  group A                  none        47          57         44   \n",
       "4    male  group C                  none        76          78         75   \n",
       "\n",
       "   target  \n",
       "0       1  \n",
       "1       1  \n",
       "2       1  \n",
       "3       1  \n",
       "4       1  "
      ]
     },
     "execution_count": 37,
     "metadata": {},
     "output_type": "execute_result"
    }
   ],
   "source": [
    "#Removal of unnecessary columns \n",
    "df.drop(['parent.ed', 'lunch'], axis=1, inplace=True)\n",
    "df.head()"
   ]
  },
  {
   "cell_type": "code",
   "execution_count": 38,
   "id": "15779321",
   "metadata": {},
   "outputs": [
    {
     "data": {
      "text/plain": [
       "gender                   0\n",
       "race                     0\n",
       "Course_Project Status    0\n",
       "GD_Score                 0\n",
       "GPPT_Score               0\n",
       "MSE_Score                0\n",
       "target                   0\n",
       "dtype: int64"
      ]
     },
     "execution_count": 38,
     "metadata": {},
     "output_type": "execute_result"
    }
   ],
   "source": [
    "# Checking if there is any missing/null values\n",
    "df.isnull().sum()"
   ]
  },
  {
   "cell_type": "code",
   "execution_count": 39,
   "id": "1b455598",
   "metadata": {},
   "outputs": [
    {
     "data": {
      "text/plain": [
       "0      54.75\n",
       "1      62.00\n",
       "2      69.75\n",
       "3      37.25\n",
       "4      57.50\n",
       "       ...  \n",
       "995    70.50\n",
       "996    43.00\n",
       "997    48.75\n",
       "998    55.75\n",
       "999    62.25\n",
       "Length: 1000, dtype: float64"
      ]
     },
     "execution_count": 39,
     "metadata": {},
     "output_type": "execute_result"
    }
   ],
   "source": [
    "#Calculating the average score(avg_score = (GD_Score + GPPT_Score + MSE_Score)/3)\n",
    "avg_score=df.mean(axis='columns')\n",
    "avg_score\n",
    "\n",
    "## Solve the error here Ishan"
   ]
  },
  {
   "cell_type": "code",
   "execution_count": 40,
   "id": "27f6f851",
   "metadata": {},
   "outputs": [
    {
     "data": {
      "text/html": [
       "<div>\n",
       "<style scoped>\n",
       "    .dataframe tbody tr th:only-of-type {\n",
       "        vertical-align: middle;\n",
       "    }\n",
       "\n",
       "    .dataframe tbody tr th {\n",
       "        vertical-align: top;\n",
       "    }\n",
       "\n",
       "    .dataframe thead th {\n",
       "        text-align: right;\n",
       "    }\n",
       "</style>\n",
       "<table border=\"1\" class=\"dataframe\">\n",
       "  <thead>\n",
       "    <tr style=\"text-align: right;\">\n",
       "      <th></th>\n",
       "      <th>gender</th>\n",
       "      <th>race</th>\n",
       "      <th>Course_Project Status</th>\n",
       "      <th>GD_Score</th>\n",
       "      <th>GPPT_Score</th>\n",
       "      <th>MSE_Score</th>\n",
       "      <th>target</th>\n",
       "      <th>Average_score</th>\n",
       "    </tr>\n",
       "  </thead>\n",
       "  <tbody>\n",
       "    <tr>\n",
       "      <th>0</th>\n",
       "      <td>female</td>\n",
       "      <td>group B</td>\n",
       "      <td>none</td>\n",
       "      <td>72</td>\n",
       "      <td>72</td>\n",
       "      <td>74</td>\n",
       "      <td>1</td>\n",
       "      <td>54.75</td>\n",
       "    </tr>\n",
       "    <tr>\n",
       "      <th>1</th>\n",
       "      <td>female</td>\n",
       "      <td>group C</td>\n",
       "      <td>completed</td>\n",
       "      <td>69</td>\n",
       "      <td>90</td>\n",
       "      <td>88</td>\n",
       "      <td>1</td>\n",
       "      <td>62.00</td>\n",
       "    </tr>\n",
       "    <tr>\n",
       "      <th>2</th>\n",
       "      <td>female</td>\n",
       "      <td>group B</td>\n",
       "      <td>none</td>\n",
       "      <td>90</td>\n",
       "      <td>95</td>\n",
       "      <td>93</td>\n",
       "      <td>1</td>\n",
       "      <td>69.75</td>\n",
       "    </tr>\n",
       "    <tr>\n",
       "      <th>3</th>\n",
       "      <td>male</td>\n",
       "      <td>group A</td>\n",
       "      <td>none</td>\n",
       "      <td>47</td>\n",
       "      <td>57</td>\n",
       "      <td>44</td>\n",
       "      <td>1</td>\n",
       "      <td>37.25</td>\n",
       "    </tr>\n",
       "    <tr>\n",
       "      <th>4</th>\n",
       "      <td>male</td>\n",
       "      <td>group C</td>\n",
       "      <td>none</td>\n",
       "      <td>76</td>\n",
       "      <td>78</td>\n",
       "      <td>75</td>\n",
       "      <td>1</td>\n",
       "      <td>57.50</td>\n",
       "    </tr>\n",
       "  </tbody>\n",
       "</table>\n",
       "</div>"
      ],
      "text/plain": [
       "   gender     race Course_Project Status  GD_Score  GPPT_Score  MSE_Score  \\\n",
       "0  female  group B                  none        72          72         74   \n",
       "1  female  group C             completed        69          90         88   \n",
       "2  female  group B                  none        90          95         93   \n",
       "3    male  group A                  none        47          57         44   \n",
       "4    male  group C                  none        76          78         75   \n",
       "\n",
       "   target  Average_score  \n",
       "0       1          54.75  \n",
       "1       1          62.00  \n",
       "2       1          69.75  \n",
       "3       1          37.25  \n",
       "4       1          57.50  "
      ]
     },
     "execution_count": 40,
     "metadata": {},
     "output_type": "execute_result"
    }
   ],
   "source": [
    "#Adding a new column named Average_score and adding the avg_score values to the column\n",
    "df['Average_score'] = avg_score\n",
    "df.head()"
   ]
  },
  {
   "cell_type": "code",
   "execution_count": 41,
   "id": "91debb16",
   "metadata": {},
   "outputs": [
    {
     "data": {
      "text/html": [
       "<div>\n",
       "<style scoped>\n",
       "    .dataframe tbody tr th:only-of-type {\n",
       "        vertical-align: middle;\n",
       "    }\n",
       "\n",
       "    .dataframe tbody tr th {\n",
       "        vertical-align: top;\n",
       "    }\n",
       "\n",
       "    .dataframe thead th {\n",
       "        text-align: right;\n",
       "    }\n",
       "</style>\n",
       "<table border=\"1\" class=\"dataframe\">\n",
       "  <thead>\n",
       "    <tr style=\"text-align: right;\">\n",
       "      <th></th>\n",
       "      <th>race</th>\n",
       "      <th>Course_Project Status</th>\n",
       "      <th>GD_Score</th>\n",
       "      <th>GPPT_Score</th>\n",
       "      <th>MSE_Score</th>\n",
       "      <th>target</th>\n",
       "      <th>Average_score</th>\n",
       "    </tr>\n",
       "    <tr>\n",
       "      <th>gender</th>\n",
       "      <th></th>\n",
       "      <th></th>\n",
       "      <th></th>\n",
       "      <th></th>\n",
       "      <th></th>\n",
       "      <th></th>\n",
       "      <th></th>\n",
       "    </tr>\n",
       "  </thead>\n",
       "  <tbody>\n",
       "    <tr>\n",
       "      <th>female</th>\n",
       "      <td>518</td>\n",
       "      <td>518</td>\n",
       "      <td>518</td>\n",
       "      <td>518</td>\n",
       "      <td>518</td>\n",
       "      <td>518</td>\n",
       "      <td>518</td>\n",
       "    </tr>\n",
       "    <tr>\n",
       "      <th>male</th>\n",
       "      <td>482</td>\n",
       "      <td>482</td>\n",
       "      <td>482</td>\n",
       "      <td>482</td>\n",
       "      <td>482</td>\n",
       "      <td>482</td>\n",
       "      <td>482</td>\n",
       "    </tr>\n",
       "  </tbody>\n",
       "</table>\n",
       "</div>"
      ],
      "text/plain": [
       "        race  Course_Project Status  GD_Score  GPPT_Score  MSE_Score  target  \\\n",
       "gender                                                                         \n",
       "female   518                    518       518         518        518     518   \n",
       "male     482                    482       482         482        482     482   \n",
       "\n",
       "        Average_score  \n",
       "gender                 \n",
       "female            518  \n",
       "male              482  "
      ]
     },
     "execution_count": 41,
     "metadata": {},
     "output_type": "execute_result"
    }
   ],
   "source": [
    "#Counting the number of male and female\n",
    "classify = df.groupby('gender').count()\n",
    "classify"
   ]
  },
  {
   "cell_type": "code",
   "execution_count": 16,
   "id": "fbb0456d",
   "metadata": {},
   "outputs": [
    {
     "data": {
      "text/plain": [
       "<AxesSubplot:xlabel='gender'>"
      ]
     },
     "execution_count": 16,
     "metadata": {},
     "output_type": "execute_result"
    },
    {
     "data": {
      "image/png": "[encoded data removed]",
      "text/plain": [
       "<Figure size 432x288 with 1 Axes>"
      ]
     },
     "metadata": {
      "needs_background": "light"
     },
     "output_type": "display_data"
    }
   ],
   "source": [
    "classify.plot.bar()"
   ]
  },
  {
   "cell_type": "code",
   "execution_count": 17,
   "id": "96babca4",
   "metadata": {},
   "outputs": [
    {
     "data": {},
     "metadata": {},
     "output_type": "display_data"
    },
    {
     "data": {
      "application/vnd.holoviews_exec.v0+json": "",
      "text/html": [
       "<div id='1002'>\n",
       "\n",
       "\n",
       "\n",
       "\n",
       "\n",
       "  <div class=\"bk-root\" id=\"c5eb6f1b-5622-43f2-82cf-9f85c72250dc\" data-root-id=\"1002\"></div>\n",
       "</div>\n",
       "<script type=\"application/javascript\">(function(root) {\n",
       "  function embed_document(root) {\n",
       "    var docs_json = {\"5fb48158-bfbe-43f6-888a-d7a70088f46c\":{\"defs\":[{\"extends\":null,\"module\":null,\"name\":\"ReactiveHTML1\",\"overrides\":[],\"properties\":[]},{\"extends\":null,\"module\":null,\"name\":\"FlexBox1\",\"overrides\":[],\"properties\":[{\"default\":\"flex-start\",\"kind\":null,\"name\":\"align_content\"},{\"default\":\"flex-start\",\"kind\":null,\"name\":\"align_items\"},{\"default\":\"row\",\"kind\":null,\"name\":\"flex_direction\"},{\"default\":\"wrap\",\"kind\":null,\"name\":\"flex_wrap\"},{\"default\":\"flex-start\",\"kind\":null,\"name\":\"justify_content\"}]},{\"extends\":null,\"module\":null,\"name\":\"GridStack1\",\"overrides\":[],\"properties\":[{\"default\":\"warn\",\"kind\":null,\"name\":\"mode\"},{\"default\":null,\"kind\":null,\"name\":\"ncols\"},{\"default\":null,\"kind\":null,\"name\":\"nrows\"},{\"default\":true,\"kind\":null,\"name\":\"allow_resize\"},{\"default\":true,\"kind\":null,\"name\":\"allow_drag\"},{\"default\":[],\"kind\":null,\"name\":\"state\"}]},{\"extends\":null,\"module\":null,\"name\":\"click1\",\"overrides\":[],\"properties\":[{\"default\":\"\",\"kind\":null,\"name\":\"terminal_output\"},{\"default\":\"\",\"kind\":null,\"name\":\"debug_name\"},{\"default\":0,\"kind\":null,\"name\":\"clears\"}]},{\"extends\":null,\"module\":null,\"name\":\"TemplateActions1\",\"overrides\":[],\"properties\":[{\"default\":0,\"kind\":null,\"name\":\"open_modal\"},{\"default\":0,\"kind\":null,\"name\":\"close_modal\"}]},{\"extends\":null,\"module\":null,\"name\":\"MaterialTemplateActions1\",\"overrides\":[],\"properties\":[{\"default\":0,\"kind\":null,\"name\":\"open_modal\"},{\"default\":0,\"kind\":null,\"name\":\"close_modal\"}]}],\"roots\":{\"references\":[{\"attributes\":{\"axis\":{\"id\":\"1019\"},\"coordinates\":null,\"dimension\":1,\"grid_line_color\":null,\"group\":null,\"ticker\":null},\"id\":\"1022\",\"type\":\"Grid\"},{\"attributes\":{\"margin\":[5,5,5,5],\"name\":\"HSpacer01631\",\"sizing_mode\":\"stretch_width\"},\"id\":\"1071\",\"type\":\"Spacer\"},{\"attributes\":{},\"id\":\"1058\",\"type\":\"UnionRenderers\"},{\"attributes\":{\"axis_label\":\"Count\",\"coordinates\":null,\"formatter\":{\"id\":\"1049\"},\"group\":null,\"major_label_policy\":{\"id\":\"1050\"},\"ticker\":{\"id\":\"1020\"}},\"id\":\"1019\",\"type\":\"LinearAxis\"},{\"attributes\":{},\"id\":\"1049\",\"type\":\"BasicTickFormatter\"},{\"attributes\":{},\"id\":\"1020\",\"type\":\"BasicTicker\"},{\"attributes\":{},\"id\":\"1025\",\"type\":\"WheelZoomTool\"},{\"attributes\":{\"fill_color\":{\"value\":\"#30a2da\"},\"hatch_color\":{\"value\":\"#30a2da\"},\"top\":{\"field\":\"gender\"},\"width\":{\"value\":0.8},\"x\":{\"field\":\"index\"}},\"id\":\"1039\",\"type\":\"VBar\"},{\"attributes\":{\"fill_alpha\":{\"value\":0.1},\"fill_color\":{\"value\":\"#30a2da\"},\"hatch_alpha\":{\"value\":0.1},\"hatch_color\":{\"value\":\"#30a2da\"},\"line_alpha\":{\"value\":0.1},\"top\":{\"field\":\"gender\"},\"width\":{\"value\":0.8},\"x\":{\"field\":\"index\"}},\"id\":\"1040\",\"type\":\"VBar\"},{\"attributes\":{},\"id\":\"1023\",\"type\":\"SaveTool\"},{\"attributes\":{\"axis\":{\"id\":\"1016\"},\"coordinates\":null,\"grid_line_color\":null,\"group\":null,\"ticker\":null},\"id\":\"1018\",\"type\":\"Grid\"},{\"attributes\":{\"coordinates\":null,\"data_source\":{\"id\":\"1036\"},\"glyph\":{\"id\":\"1039\"},\"group\":null,\"hover_glyph\":null,\"muted_glyph\":{\"id\":\"1041\"},\"nonselection_glyph\":{\"id\":\"1040\"},\"selection_glyph\":{\"id\":\"1044\"},\"view\":{\"id\":\"1043\"}},\"id\":\"1042\",\"type\":\"GlyphRenderer\"},{\"attributes\":{},\"id\":\"1012\",\"type\":\"CategoricalScale\"},{\"attributes\":{\"overlay\":{\"id\":\"1028\"}},\"id\":\"1026\",\"type\":\"BoxZoomTool\"},{\"attributes\":{},\"id\":\"1027\",\"type\":\"ResetTool\"},{\"attributes\":{},\"id\":\"1046\",\"type\":\"CategoricalTickFormatter\"},{\"attributes\":{\"source\":{\"id\":\"1036\"}},\"id\":\"1043\",\"type\":\"CDSView\"},{\"attributes\":{\"data\":{\"gender\":[518,482],\"index\":[\"female\",\"male\"]},\"selected\":{\"id\":\"1037\"},\"selection_policy\":{\"id\":\"1058\"}},\"id\":\"1036\",\"type\":\"ColumnDataSource\"},{\"attributes\":{\"bottom_units\":\"screen\",\"coordinates\":null,\"fill_alpha\":0.5,\"fill_color\":\"lightgrey\",\"group\":null,\"left_units\":\"screen\",\"level\":\"overlay\",\"line_alpha\":1.0,\"line_color\":\"black\",\"line_dash\":[4,4],\"line_width\":2,\"right_units\":\"screen\",\"syncable\":false,\"top_units\":\"screen\"},\"id\":\"1028\",\"type\":\"BoxAnnotation\"},{\"attributes\":{\"fill_alpha\":{\"value\":0.2},\"fill_color\":{\"value\":\"#30a2da\"},\"hatch_alpha\":{\"value\":0.2},\"hatch_color\":{\"value\":\"#30a2da\"},\"line_alpha\":{\"value\":0.2},\"top\":{\"field\":\"gender\"},\"width\":{\"value\":0.8},\"x\":{\"field\":\"index\"}},\"id\":\"1041\",\"type\":\"VBar\"},{\"attributes\":{\"axis_label\":\"Gender\",\"coordinates\":null,\"formatter\":{\"id\":\"1046\"},\"group\":null,\"major_label_policy\":{\"id\":\"1047\"},\"ticker\":{\"id\":\"1017\"}},\"id\":\"1016\",\"type\":\"CategoricalAxis\"},{\"attributes\":{\"bottom\":{\"value\":0},\"fill_alpha\":{\"value\":1.0},\"fill_color\":{\"value\":\"#30a2da\"},\"hatch_alpha\":{\"value\":1.0},\"hatch_color\":{\"value\":\"#30a2da\"},\"hatch_scale\":{\"value\":12.0},\"hatch_weight\":{\"value\":1.0},\"line_alpha\":{\"value\":1.0},\"line_cap\":{\"value\":\"butt\"},\"line_color\":{\"value\":\"black\"},\"line_dash\":{\"value\":[]},\"line_dash_offset\":{\"value\":0},\"line_join\":{\"value\":\"bevel\"},\"line_width\":{\"value\":1},\"top\":{\"field\":\"gender\"},\"width\":{\"value\":0.8},\"x\":{\"field\":\"index\"}},\"id\":\"1044\",\"type\":\"VBar\"},{\"attributes\":{},\"id\":\"1047\",\"type\":\"AllLabels\"},{\"attributes\":{\"coordinates\":null,\"group\":null,\"text\":\"Number of people with gender\",\"text_color\":\"black\",\"text_font_size\":\"12pt\"},\"id\":\"1008\",\"type\":\"Title\"},{\"attributes\":{\"factors\":[\"female\",\"male\"],\"tags\":[[[\"index\",\"index\",null]]]},\"id\":\"1004\",\"type\":\"FactorRange\"},{\"attributes\":{},\"id\":\"1050\",\"type\":\"AllLabels\"},{\"attributes\":{},\"id\":\"1017\",\"type\":\"CategoricalTicker\"},{\"attributes\":{\"children\":[{\"id\":\"1003\"},{\"id\":\"1007\"},{\"id\":\"1071\"}],\"margin\":[0,0,0,0],\"name\":\"Row01626\",\"tags\":[\"embedded\"]},\"id\":\"1002\",\"type\":\"Row\"},{\"attributes\":{},\"id\":\"1037\",\"type\":\"Selection\"},{\"attributes\":{},\"id\":\"1014\",\"type\":\"LinearScale\"},{\"attributes\":{\"margin\":[5,5,5,5],\"name\":\"HSpacer01630\",\"sizing_mode\":\"stretch_width\"},\"id\":\"1003\",\"type\":\"Spacer\"},{\"attributes\":{\"end\":521.6,\"reset_end\":521.6,\"reset_start\":0.0,\"tags\":[[[\"gender\",\"gender\",null]]]},\"id\":\"1005\",\"type\":\"Range1d\"},{\"attributes\":{\"tools\":[{\"id\":\"1006\"},{\"id\":\"1023\"},{\"id\":\"1024\"},{\"id\":\"1025\"},{\"id\":\"1026\"},{\"id\":\"1027\"}]},\"id\":\"1029\",\"type\":\"Toolbar\"},{\"attributes\":{\"below\":[{\"id\":\"1016\"}],\"center\":[{\"id\":\"1018\"},{\"id\":\"1022\"}],\"height\":350,\"left\":[{\"id\":\"1019\"}],\"margin\":[5,5,5,5],\"min_border_bottom\":10,\"min_border_left\":10,\"min_border_right\":10,\"min_border_top\":10,\"renderers\":[{\"id\":\"1042\"}],\"sizing_mode\":\"fixed\",\"title\":{\"id\":\"1008\"},\"toolbar\":{\"id\":\"1029\"},\"width\":700,\"x_range\":{\"id\":\"1004\"},\"x_scale\":{\"id\":\"1012\"},\"y_range\":{\"id\":\"1005\"},\"y_scale\":{\"id\":\"1014\"}},\"id\":\"1007\",\"subtype\":\"Figure\",\"type\":\"Plot\"},{\"attributes\":{\"callback\":null,\"renderers\":[{\"id\":\"1042\"}],\"tags\":[\"hv_created\"],\"tooltips\":[[\"index\",\"@{index}\"],[\"gender\",\"@{gender}\"]]},\"id\":\"1006\",\"type\":\"HoverTool\"},{\"attributes\":{},\"id\":\"1024\",\"type\":\"PanTool\"}],\"root_ids\":[\"1002\"]},\"title\":\"Bokeh Application\",\"version\":\"2.4.2\"}};\n",
       "    var render_items = [{\"docid\":\"5fb48158-bfbe-43f6-888a-d7a70088f46c\",\"root_ids\":[\"1002\"],\"roots\":{\"1002\":\"c5eb6f1b-5622-43f2-82cf-9f85c72250dc\"}}];\n",
       "    root.Bokeh.embed.embed_items_notebook(docs_json, render_items);\n",
       "  }\n",
       "  if (root.Bokeh !== undefined && root.Bokeh.Panel !== undefined) {\n",
       "    embed_document(root);\n",
       "  } else {\n",
       "    var attempts = 0;\n",
       "    var timer = setInterval(function(root) {\n",
       "      if (root.Bokeh !== undefined && root.Bokeh.Panel !== undefined) {\n",
       "        clearInterval(timer);\n",
       "        embed_document(root);\n",
       "      } else if (document.readyState == \"complete\") {\n",
       "        attempts++;\n",
       "        if (attempts > 200) {\n",
       "          clearInterval(timer);\n",
       "          console.log(\"Bokeh: ERROR: Unable to run BokehJS code because BokehJS library is missing\");\n",
       "        }\n",
       "      }\n",
       "    }, 25, root)\n",
       "  }\n",
       "})(window);</script>"
      ],
      "text/plain": [
       ":Bars   [index]   (gender)"
      ]
     },
     "execution_count": 17,
     "metadata": {
      "application/vnd.holoviews_exec.v0+json": {
       "id": "1002"
      }
     },
     "output_type": "execute_result"
    }
   ],
   "source": [
    "# hvplots\n",
    "\n",
    "## Gender Count Plot\n",
    "\n",
    "df.gender.value_counts().hvplot.bar(\n",
    "    title=\"Number of people with gender\", xlabel='Gender', ylabel='Count', \n",
    "    width=700, height=350\n",
    ")"
   ]
  },
  {
   "cell_type": "code",
   "execution_count": 18,
   "id": "f5333ae0",
   "metadata": {},
   "outputs": [
    {
     "data": {},
     "metadata": {},
     "output_type": "display_data"
    },
    {
     "data": {
      "application/vnd.holoviews_exec.v0+json": "",
      "text/html": [
       "<div id='1123'>\n",
       "\n",
       "\n",
       "\n",
       "\n",
       "\n",
       "  <div class=\"bk-root\" id=\"8444c59d-be9e-4bdd-b651-e688c2e43ef6\" data-root-id=\"1123\"></div>\n",
       "</div>\n",
       "<script type=\"application/javascript\">(function(root) {\n",
       "  function embed_document(root) {\n",
       "    var docs_json = {\"27eaa95a-7b93-4ddd-bda9-6b5ff5ba2586\":{\"defs\":[{\"extends\":null,\"module\":null,\"name\":\"ReactiveHTML1\",\"overrides\":[],\"properties\":[]},{\"extends\":null,\"module\":null,\"name\":\"FlexBox1\",\"overrides\":[],\"properties\":[{\"default\":\"flex-start\",\"kind\":null,\"name\":\"align_content\"},{\"default\":\"flex-start\",\"kind\":null,\"name\":\"align_items\"},{\"default\":\"row\",\"kind\":null,\"name\":\"flex_direction\"},{\"default\":\"wrap\",\"kind\":null,\"name\":\"flex_wrap\"},{\"default\":\"flex-start\",\"kind\":null,\"name\":\"justify_content\"}]},{\"extends\":null,\"module\":null,\"name\":\"GridStack1\",\"overrides\":[],\"properties\":[{\"default\":\"warn\",\"kind\":null,\"name\":\"mode\"},{\"default\":null,\"kind\":null,\"name\":\"ncols\"},{\"default\":null,\"kind\":null,\"name\":\"nrows\"},{\"default\":true,\"kind\":null,\"name\":\"allow_resize\"},{\"default\":true,\"kind\":null,\"name\":\"allow_drag\"},{\"default\":[],\"kind\":null,\"name\":\"state\"}]},{\"extends\":null,\"module\":null,\"name\":\"click1\",\"overrides\":[],\"properties\":[{\"default\":\"\",\"kind\":null,\"name\":\"terminal_output\"},{\"default\":\"\",\"kind\":null,\"name\":\"debug_name\"},{\"default\":0,\"kind\":null,\"name\":\"clears\"}]},{\"extends\":null,\"module\":null,\"name\":\"TemplateActions1\",\"overrides\":[],\"properties\":[{\"default\":0,\"kind\":null,\"name\":\"open_modal\"},{\"default\":0,\"kind\":null,\"name\":\"close_modal\"}]},{\"extends\":null,\"module\":null,\"name\":\"MaterialTemplateActions1\",\"overrides\":[],\"properties\":[{\"default\":0,\"kind\":null,\"name\":\"open_modal\"},{\"default\":0,\"kind\":null,\"name\":\"close_modal\"}]}],\"roots\":{\"references\":[{\"attributes\":{\"margin\":[5,5,5,5],\"name\":\"HSpacer01779\",\"sizing_mode\":\"stretch_width\"},\"id\":\"1124\",\"type\":\"Spacer\"},{\"attributes\":{\"fill_color\":{\"value\":\"#30a2da\"},\"hatch_color\":{\"value\":\"#30a2da\"},\"top\":{\"field\":\"race\"},\"width\":{\"value\":0.8},\"x\":{\"field\":\"index\"}},\"id\":\"1160\",\"type\":\"VBar\"},{\"attributes\":{},\"id\":\"1171\",\"type\":\"AllLabels\"},{\"attributes\":{},\"id\":\"1179\",\"type\":\"UnionRenderers\"},{\"attributes\":{},\"id\":\"1145\",\"type\":\"PanTool\"},{\"attributes\":{},\"id\":\"1146\",\"type\":\"WheelZoomTool\"},{\"attributes\":{\"fill_alpha\":{\"value\":0.1},\"fill_color\":{\"value\":\"#30a2da\"},\"hatch_alpha\":{\"value\":0.1},\"hatch_color\":{\"value\":\"#30a2da\"},\"line_alpha\":{\"value\":0.1},\"top\":{\"field\":\"race\"},\"width\":{\"value\":0.8},\"x\":{\"field\":\"index\"}},\"id\":\"1161\",\"type\":\"VBar\"},{\"attributes\":{},\"id\":\"1144\",\"type\":\"SaveTool\"},{\"attributes\":{},\"id\":\"1133\",\"type\":\"CategoricalScale\"},{\"attributes\":{\"coordinates\":null,\"data_source\":{\"id\":\"1157\"},\"glyph\":{\"id\":\"1160\"},\"group\":null,\"hover_glyph\":null,\"muted_glyph\":{\"id\":\"1162\"},\"nonselection_glyph\":{\"id\":\"1161\"},\"selection_glyph\":{\"id\":\"1165\"},\"view\":{\"id\":\"1164\"}},\"id\":\"1163\",\"type\":\"GlyphRenderer\"},{\"attributes\":{\"overlay\":{\"id\":\"1149\"}},\"id\":\"1147\",\"type\":\"BoxZoomTool\"},{\"attributes\":{},\"id\":\"1148\",\"type\":\"ResetTool\"},{\"attributes\":{\"children\":[{\"id\":\"1124\"},{\"id\":\"1128\"},{\"id\":\"1192\"}],\"margin\":[0,0,0,0],\"name\":\"Row01775\",\"tags\":[\"embedded\"]},\"id\":\"1123\",\"type\":\"Row\"},{\"attributes\":{\"source\":{\"id\":\"1157\"}},\"id\":\"1164\",\"type\":\"CDSView\"},{\"attributes\":{\"bottom_units\":\"screen\",\"coordinates\":null,\"fill_alpha\":0.5,\"fill_color\":\"lightgrey\",\"group\":null,\"left_units\":\"screen\",\"level\":\"overlay\",\"line_alpha\":1.0,\"line_color\":\"black\",\"line_dash\":[4,4],\"line_width\":2,\"right_units\":\"screen\",\"syncable\":false,\"top_units\":\"screen\"},\"id\":\"1149\",\"type\":\"BoxAnnotation\"},{\"attributes\":{\"fill_alpha\":{\"value\":0.2},\"fill_color\":{\"value\":\"#30a2da\"},\"hatch_alpha\":{\"value\":0.2},\"hatch_color\":{\"value\":\"#30a2da\"},\"line_alpha\":{\"value\":0.2},\"top\":{\"field\":\"race\"},\"width\":{\"value\":0.8},\"x\":{\"field\":\"index\"}},\"id\":\"1162\",\"type\":\"VBar\"},{\"attributes\":{\"bottom\":{\"value\":0},\"fill_alpha\":{\"value\":1.0},\"fill_color\":{\"value\":\"#30a2da\"},\"hatch_alpha\":{\"value\":1.0},\"hatch_color\":{\"value\":\"#30a2da\"},\"hatch_scale\":{\"value\":12.0},\"hatch_weight\":{\"value\":1.0},\"line_alpha\":{\"value\":1.0},\"line_cap\":{\"value\":\"butt\"},\"line_color\":{\"value\":\"black\"},\"line_dash\":{\"value\":[]},\"line_dash_offset\":{\"value\":0},\"line_join\":{\"value\":\"bevel\"},\"line_width\":{\"value\":1},\"top\":{\"field\":\"race\"},\"width\":{\"value\":0.8},\"x\":{\"field\":\"index\"}},\"id\":\"1165\",\"type\":\"VBar\"},{\"attributes\":{},\"id\":\"1168\",\"type\":\"AllLabels\"},{\"attributes\":{\"margin\":[5,5,5,5],\"name\":\"HSpacer01780\",\"sizing_mode\":\"stretch_width\"},\"id\":\"1192\",\"type\":\"Spacer\"},{\"attributes\":{\"below\":[{\"id\":\"1137\"}],\"center\":[{\"id\":\"1139\"},{\"id\":\"1143\"}],\"height\":350,\"left\":[{\"id\":\"1140\"}],\"margin\":[5,5,5,5],\"min_border_bottom\":10,\"min_border_left\":10,\"min_border_right\":10,\"min_border_top\":10,\"renderers\":[{\"id\":\"1163\"}],\"sizing_mode\":\"fixed\",\"title\":{\"id\":\"1129\"},\"toolbar\":{\"id\":\"1150\"},\"width\":700,\"x_range\":{\"id\":\"1125\"},\"x_scale\":{\"id\":\"1133\"},\"y_range\":{\"id\":\"1126\"},\"y_scale\":{\"id\":\"1135\"}},\"id\":\"1128\",\"subtype\":\"Figure\",\"type\":\"Plot\"},{\"attributes\":{},\"id\":\"1167\",\"type\":\"CategoricalTickFormatter\"},{\"attributes\":{\"factors\":[\"group C\",\"group D\",\"group B\",\"group E\",\"group A\"],\"tags\":[[[\"index\",\"index\",null]]]},\"id\":\"1125\",\"type\":\"FactorRange\"},{\"attributes\":{\"callback\":null,\"renderers\":[{\"id\":\"1163\"}],\"tags\":[\"hv_created\"],\"tooltips\":[[\"index\",\"@{index}\"],[\"race\",\"@{race}\"]]},\"id\":\"1127\",\"type\":\"HoverTool\"},{\"attributes\":{\"data\":{\"index\":[\"group C\",\"group D\",\"group B\",\"group E\",\"group A\"],\"race\":[319,262,190,140,89]},\"selected\":{\"id\":\"1158\"},\"selection_policy\":{\"id\":\"1179\"}},\"id\":\"1157\",\"type\":\"ColumnDataSource\"},{\"attributes\":{\"end\":342.0,\"reset_end\":342.0,\"reset_start\":0.0,\"tags\":[[[\"race\",\"race\",null]]]},\"id\":\"1126\",\"type\":\"Range1d\"},{\"attributes\":{},\"id\":\"1135\",\"type\":\"LinearScale\"},{\"attributes\":{\"coordinates\":null,\"group\":null,\"text\":\"Number of people with gender\",\"text_color\":\"black\",\"text_font_size\":\"12pt\"},\"id\":\"1129\",\"type\":\"Title\"},{\"attributes\":{\"axis\":{\"id\":\"1137\"},\"coordinates\":null,\"grid_line_color\":null,\"group\":null,\"ticker\":null},\"id\":\"1139\",\"type\":\"Grid\"},{\"attributes\":{},\"id\":\"1170\",\"type\":\"BasicTickFormatter\"},{\"attributes\":{\"axis\":{\"id\":\"1140\"},\"coordinates\":null,\"dimension\":1,\"grid_line_color\":null,\"group\":null,\"ticker\":null},\"id\":\"1143\",\"type\":\"Grid\"},{\"attributes\":{},\"id\":\"1141\",\"type\":\"BasicTicker\"},{\"attributes\":{},\"id\":\"1138\",\"type\":\"CategoricalTicker\"},{\"attributes\":{\"axis_label\":\"Gender\",\"coordinates\":null,\"formatter\":{\"id\":\"1167\"},\"group\":null,\"major_label_policy\":{\"id\":\"1168\"},\"ticker\":{\"id\":\"1138\"}},\"id\":\"1137\",\"type\":\"CategoricalAxis\"},{\"attributes\":{\"tools\":[{\"id\":\"1127\"},{\"id\":\"1144\"},{\"id\":\"1145\"},{\"id\":\"1146\"},{\"id\":\"1147\"},{\"id\":\"1148\"}]},\"id\":\"1150\",\"type\":\"Toolbar\"},{\"attributes\":{\"axis_label\":\"Count\",\"coordinates\":null,\"formatter\":{\"id\":\"1170\"},\"group\":null,\"major_label_policy\":{\"id\":\"1171\"},\"ticker\":{\"id\":\"1141\"}},\"id\":\"1140\",\"type\":\"LinearAxis\"},{\"attributes\":{},\"id\":\"1158\",\"type\":\"Selection\"}],\"root_ids\":[\"1123\"]},\"title\":\"Bokeh Application\",\"version\":\"2.4.2\"}};\n",
       "    var render_items = [{\"docid\":\"27eaa95a-7b93-4ddd-bda9-6b5ff5ba2586\",\"root_ids\":[\"1123\"],\"roots\":{\"1123\":\"8444c59d-be9e-4bdd-b651-e688c2e43ef6\"}}];\n",
       "    root.Bokeh.embed.embed_items_notebook(docs_json, render_items);\n",
       "  }\n",
       "  if (root.Bokeh !== undefined && root.Bokeh.Panel !== undefined) {\n",
       "    embed_document(root);\n",
       "  } else {\n",
       "    var attempts = 0;\n",
       "    var timer = setInterval(function(root) {\n",
       "      if (root.Bokeh !== undefined && root.Bokeh.Panel !== undefined) {\n",
       "        clearInterval(timer);\n",
       "        embed_document(root);\n",
       "      } else if (document.readyState == \"complete\") {\n",
       "        attempts++;\n",
       "        if (attempts > 200) {\n",
       "          clearInterval(timer);\n",
       "          console.log(\"Bokeh: ERROR: Unable to run BokehJS code because BokehJS library is missing\");\n",
       "        }\n",
       "      }\n",
       "    }, 25, root)\n",
       "  }\n",
       "})(window);</script>"
      ],
      "text/plain": [
       ":Bars   [index]   (race)"
      ]
     },
     "execution_count": 18,
     "metadata": {
      "application/vnd.holoviews_exec.v0+json": {
       "id": "1123"
      }
     },
     "output_type": "execute_result"
    }
   ],
   "source": [
    "## Race/Ethnicity Count\n",
    "\n",
    "df.race.value_counts().hvplot.bar(\n",
    "    title=\"Number of people with gender\", xlabel='Gender', ylabel='Count', \n",
    "    width=700, height=350\n",
    ")"
   ]
  },
  {
   "cell_type": "code",
   "execution_count": 19,
   "id": "3dd3b4f4",
   "metadata": {},
   "outputs": [
    {
     "data": {
      "text/html": [
       "<div>\n",
       "<style scoped>\n",
       "    .dataframe tbody tr th:only-of-type {\n",
       "        vertical-align: middle;\n",
       "    }\n",
       "\n",
       "    .dataframe tbody tr th {\n",
       "        vertical-align: top;\n",
       "    }\n",
       "\n",
       "    .dataframe thead th {\n",
       "        text-align: right;\n",
       "    }\n",
       "</style>\n",
       "<table border=\"1\" class=\"dataframe\">\n",
       "  <thead>\n",
       "    <tr style=\"text-align: right;\">\n",
       "      <th></th>\n",
       "      <th></th>\n",
       "      <th>GD_Score</th>\n",
       "      <th>GPPT_Score</th>\n",
       "      <th>MSE_Score</th>\n",
       "      <th>target</th>\n",
       "    </tr>\n",
       "    <tr>\n",
       "      <th>race</th>\n",
       "      <th>gender</th>\n",
       "      <th></th>\n",
       "      <th></th>\n",
       "      <th></th>\n",
       "      <th></th>\n",
       "    </tr>\n",
       "  </thead>\n",
       "  <tbody>\n",
       "    <tr>\n",
       "      <th rowspan=\"2\" valign=\"top\">group A</th>\n",
       "      <th>female</th>\n",
       "      <td>58.527778</td>\n",
       "      <td>69.000000</td>\n",
       "      <td>67.861111</td>\n",
       "      <td>0.388889</td>\n",
       "    </tr>\n",
       "    <tr>\n",
       "      <th>male</th>\n",
       "      <td>63.735849</td>\n",
       "      <td>61.735849</td>\n",
       "      <td>59.150943</td>\n",
       "      <td>0.547170</td>\n",
       "    </tr>\n",
       "    <tr>\n",
       "      <th rowspan=\"2\" valign=\"top\">group B</th>\n",
       "      <th>female</th>\n",
       "      <td>61.403846</td>\n",
       "      <td>71.076923</td>\n",
       "      <td>70.048077</td>\n",
       "      <td>0.519231</td>\n",
       "    </tr>\n",
       "    <tr>\n",
       "      <th>male</th>\n",
       "      <td>65.930233</td>\n",
       "      <td>62.848837</td>\n",
       "      <td>60.220930</td>\n",
       "      <td>0.534884</td>\n",
       "    </tr>\n",
       "    <tr>\n",
       "      <th>group C</th>\n",
       "      <th>female</th>\n",
       "      <td>62.033333</td>\n",
       "      <td>71.944444</td>\n",
       "      <td>71.777778</td>\n",
       "      <td>0.505556</td>\n",
       "    </tr>\n",
       "  </tbody>\n",
       "</table>\n",
       "</div>"
      ],
      "text/plain": [
       "                 GD_Score  GPPT_Score  MSE_Score    target\n",
       "race    gender                                            \n",
       "group A female  58.527778   69.000000  67.861111  0.388889\n",
       "        male    63.735849   61.735849  59.150943  0.547170\n",
       "group B female  61.403846   71.076923  70.048077  0.519231\n",
       "        male    65.930233   62.848837  60.220930  0.534884\n",
       "group C female  62.033333   71.944444  71.777778  0.505556"
      ]
     },
     "execution_count": 19,
     "metadata": {},
     "output_type": "execute_result"
    }
   ],
   "source": [
    "# Grouping columns for visualization\n",
    "\n",
    "table = df.groupby(['race', 'gender']).mean()\n",
    "table.head()"
   ]
  },
  {
   "cell_type": "code",
   "execution_count": 44,
   "id": "5f449b5b",
   "metadata": {},
   "outputs": [
    {
     "data": {},
     "metadata": {},
     "output_type": "display_data"
    },
    {
     "data": {
      "application/vnd.holoviews_exec.v0+json": "",
      "text/html": [
       "<div id='1366'>\n",
       "\n",
       "\n",
       "\n",
       "\n",
       "\n",
       "  <div class=\"bk-root\" id=\"f024f71d-c3d6-463e-a80d-8429da9d65d0\" data-root-id=\"1366\"></div>\n",
       "</div>\n",
       "<script type=\"application/javascript\">(function(root) {\n",
       "  function embed_document(root) {\n",
       "    var docs_json = {\"7d4d889f-8d65-4256-994d-b770f78041e3\":{\"defs\":[{\"extends\":null,\"module\":null,\"name\":\"ReactiveHTML1\",\"overrides\":[],\"properties\":[]},{\"extends\":null,\"module\":null,\"name\":\"FlexBox1\",\"overrides\":[],\"properties\":[{\"default\":\"flex-start\",\"kind\":null,\"name\":\"align_content\"},{\"default\":\"flex-start\",\"kind\":null,\"name\":\"align_items\"},{\"default\":\"row\",\"kind\":null,\"name\":\"flex_direction\"},{\"default\":\"wrap\",\"kind\":null,\"name\":\"flex_wrap\"},{\"default\":\"flex-start\",\"kind\":null,\"name\":\"justify_content\"}]},{\"extends\":null,\"module\":null,\"name\":\"GridStack1\",\"overrides\":[],\"properties\":[{\"default\":\"warn\",\"kind\":null,\"name\":\"mode\"},{\"default\":null,\"kind\":null,\"name\":\"ncols\"},{\"default\":null,\"kind\":null,\"name\":\"nrows\"},{\"default\":true,\"kind\":null,\"name\":\"allow_resize\"},{\"default\":true,\"kind\":null,\"name\":\"allow_drag\"},{\"default\":[],\"kind\":null,\"name\":\"state\"}]},{\"extends\":null,\"module\":null,\"name\":\"click1\",\"overrides\":[],\"properties\":[{\"default\":\"\",\"kind\":null,\"name\":\"terminal_output\"},{\"default\":\"\",\"kind\":null,\"name\":\"debug_name\"},{\"default\":0,\"kind\":null,\"name\":\"clears\"}]},{\"extends\":null,\"module\":null,\"name\":\"TemplateActions1\",\"overrides\":[],\"properties\":[{\"default\":0,\"kind\":null,\"name\":\"open_modal\"},{\"default\":0,\"kind\":null,\"name\":\"close_modal\"}]},{\"extends\":null,\"module\":null,\"name\":\"MaterialTemplateActions1\",\"overrides\":[],\"properties\":[{\"default\":0,\"kind\":null,\"name\":\"open_modal\"},{\"default\":0,\"kind\":null,\"name\":\"close_modal\"}]}],\"roots\":{\"references\":[{\"attributes\":{},\"id\":\"1376\",\"type\":\"CategoricalScale\"},{\"attributes\":{\"factors\":[[\"group A\",\"female\"],[\"group A\",\"male\"],[\"group B\",\"female\"],[\"group B\",\"male\"],[\"group C\",\"female\"],[\"group C\",\"male\"],[\"group D\",\"female\"],[\"group D\",\"male\"],[\"group E\",\"female\"],[\"group E\",\"male\"]],\"tags\":[[[\"race\",\"race\",null],[\"gender\",\"gender\",null]]]},\"id\":\"1368\",\"type\":\"FactorRange\"},{\"attributes\":{\"below\":[{\"id\":\"1380\"}],\"center\":[{\"id\":\"1382\"},{\"id\":\"1386\"}],\"height\":500,\"left\":[{\"id\":\"1383\"}],\"margin\":[5,5,5,5],\"min_border_bottom\":10,\"min_border_left\":10,\"min_border_right\":10,\"min_border_top\":10,\"renderers\":[{\"id\":\"1407\"}],\"sizing_mode\":\"fixed\",\"title\":{\"id\":\"1372\"},\"toolbar\":{\"id\":\"1393\"},\"width\":700,\"x_range\":{\"id\":\"1368\"},\"x_scale\":{\"id\":\"1376\"},\"y_range\":{\"id\":\"1369\"},\"y_scale\":{\"id\":\"1378\"}},\"id\":\"1371\",\"subtype\":\"Figure\",\"type\":\"Plot\"},{\"attributes\":{\"fill_alpha\":{\"value\":0.2},\"fill_color\":{\"field\":\"gender\",\"transform\":{\"id\":\"1400\"}},\"hatch_alpha\":{\"value\":0.2},\"hatch_color\":{\"field\":\"gender\",\"transform\":{\"id\":\"1400\"}},\"line_alpha\":{\"value\":0.2},\"top\":{\"field\":\"GD_Score\"},\"width\":{\"value\":0.8},\"x\":{\"field\":\"xoffsets\"}},\"id\":\"1406\",\"type\":\"VBar\"},{\"attributes\":{\"coordinates\":null,\"group\":null,\"text_color\":\"black\",\"text_font_size\":\"12pt\"},\"id\":\"1372\",\"type\":\"Title\"},{\"attributes\":{\"axis\":{\"id\":\"1380\"},\"coordinates\":null,\"grid_line_color\":null,\"group\":null,\"ticker\":null},\"id\":\"1382\",\"type\":\"Grid\"},{\"attributes\":{\"fill_alpha\":{\"value\":0.1},\"fill_color\":{\"field\":\"gender\",\"transform\":{\"id\":\"1400\"}},\"hatch_alpha\":{\"value\":0.1},\"hatch_color\":{\"field\":\"gender\",\"transform\":{\"id\":\"1400\"}},\"line_alpha\":{\"value\":0.1},\"top\":{\"field\":\"GD_Score\"},\"width\":{\"value\":0.8},\"x\":{\"field\":\"xoffsets\"}},\"id\":\"1405\",\"type\":\"VBar\"},{\"attributes\":{\"axis_label\":\"race, gender\",\"coordinates\":null,\"formatter\":{\"id\":\"1411\"},\"group\":null,\"major_label_orientation\":1.0471975511965976,\"major_label_policy\":{\"id\":\"1412\"},\"ticker\":{\"id\":\"1381\"}},\"id\":\"1380\",\"type\":\"CategoricalAxis\"},{\"attributes\":{\"axis\":{\"id\":\"1383\"},\"coordinates\":null,\"dimension\":1,\"grid_line_color\":null,\"group\":null,\"ticker\":null},\"id\":\"1386\",\"type\":\"Grid\"},{\"attributes\":{},\"id\":\"1388\",\"type\":\"PanTool\"},{\"attributes\":{\"children\":[{\"id\":\"1367\"},{\"id\":\"1371\"},{\"id\":\"1436\"}],\"margin\":[0,0,0,0],\"name\":\"Row02142\",\"tags\":[\"embedded\"]},\"id\":\"1366\",\"type\":\"Row\"},{\"attributes\":{},\"id\":\"1381\",\"type\":\"CategoricalTicker\"},{\"attributes\":{},\"id\":\"1412\",\"type\":\"AllLabels\"},{\"attributes\":{\"axis_label\":\"GD_Score\",\"coordinates\":null,\"formatter\":{\"id\":\"1414\"},\"group\":null,\"major_label_policy\":{\"id\":\"1415\"},\"ticker\":{\"id\":\"1384\"}},\"id\":\"1383\",\"type\":\"LinearAxis\"},{\"attributes\":{},\"id\":\"1411\",\"type\":\"CategoricalTickFormatter\"},{\"attributes\":{},\"id\":\"1384\",\"type\":\"BasicTicker\"},{\"attributes\":{},\"id\":\"1389\",\"type\":\"WheelZoomTool\"},{\"attributes\":{\"end\":78.56834898278561,\"reset_end\":78.56834898278561,\"reset_start\":0.0,\"tags\":[[[\"GD_Score\",\"GD_Score\",null]]]},\"id\":\"1369\",\"type\":\"Range1d\"},{\"attributes\":{\"coordinates\":null,\"data_source\":{\"id\":\"1401\"},\"glyph\":{\"id\":\"1404\"},\"group\":null,\"hover_glyph\":null,\"muted_glyph\":{\"id\":\"1406\"},\"nonselection_glyph\":{\"id\":\"1405\"},\"selection_glyph\":{\"id\":\"1409\"},\"view\":{\"id\":\"1408\"}},\"id\":\"1407\",\"type\":\"GlyphRenderer\"},{\"attributes\":{},\"id\":\"1387\",\"type\":\"SaveTool\"},{\"attributes\":{},\"id\":\"1414\",\"type\":\"BasicTickFormatter\"},{\"attributes\":{\"overlay\":{\"id\":\"1392\"}},\"id\":\"1390\",\"type\":\"BoxZoomTool\"},{\"attributes\":{},\"id\":\"1415\",\"type\":\"AllLabels\"},{\"attributes\":{\"data\":{\"GD_Score\":{\"__ndarray__\":\"OY7jOI5DTUA7sRM7sbNOQEREREREBE9ABP6AP+BPUECjxM8o8bNRQO1zSE0w3k9Aj7gj7oh7UECbhCj+IudQQKfVnVZ3WlFA+e1ST8YvU0A=\",\"dtype\":\"float64\",\"order\":\"little\",\"shape\":[10]},\"gender\":[\"female\",\"female\",\"female\",\"female\",\"female\",\"male\",\"male\",\"male\",\"male\",\"male\"],\"race\":[\"group A\",\"group B\",\"group C\",\"group D\",\"group E\",\"group A\",\"group B\",\"group C\",\"group D\",\"group E\"],\"xoffsets\":[[\"group A\",\"female\"],[\"group B\",\"female\"],[\"group C\",\"female\"],[\"group D\",\"female\"],[\"group E\",\"female\"],[\"group A\",\"male\"],[\"group B\",\"male\"],[\"group C\",\"male\"],[\"group D\",\"male\"],[\"group E\",\"male\"]]},\"selected\":{\"id\":\"1402\"},\"selection_policy\":{\"id\":\"1423\"}},\"id\":\"1401\",\"type\":\"ColumnDataSource\"},{\"attributes\":{\"source\":{\"id\":\"1401\"}},\"id\":\"1408\",\"type\":\"CDSView\"},{\"attributes\":{},\"id\":\"1391\",\"type\":\"ResetTool\"},{\"attributes\":{\"bottom\":{\"value\":0},\"fill_alpha\":{\"value\":1.0},\"fill_color\":{\"field\":\"gender\",\"transform\":{\"id\":\"1400\"}},\"hatch_alpha\":{\"value\":1.0},\"hatch_color\":{\"field\":\"gender\",\"transform\":{\"id\":\"1400\"}},\"hatch_scale\":{\"value\":12.0},\"hatch_weight\":{\"value\":1.0},\"line_alpha\":{\"value\":1.0},\"line_cap\":{\"value\":\"butt\"},\"line_color\":{\"value\":\"black\"},\"line_dash\":{\"value\":[]},\"line_dash_offset\":{\"value\":0},\"line_join\":{\"value\":\"bevel\"},\"line_width\":{\"value\":1},\"top\":{\"field\":\"GD_Score\"},\"width\":{\"value\":0.8},\"x\":{\"field\":\"xoffsets\"}},\"id\":\"1409\",\"type\":\"VBar\"},{\"attributes\":{},\"id\":\"1402\",\"type\":\"Selection\"},{\"attributes\":{\"callback\":null,\"renderers\":[{\"id\":\"1407\"}],\"tags\":[\"hv_created\"],\"tooltips\":[[\"race\",\"@{race}\"],[\"gender\",\"@{gender}\"],[\"GD_Score\",\"@{GD_Score}\"]]},\"id\":\"1370\",\"type\":\"HoverTool\"},{\"attributes\":{\"bottom_units\":\"screen\",\"coordinates\":null,\"fill_alpha\":0.5,\"fill_color\":\"lightgrey\",\"group\":null,\"left_units\":\"screen\",\"level\":\"overlay\",\"line_alpha\":1.0,\"line_color\":\"black\",\"line_dash\":[4,4],\"line_width\":2,\"right_units\":\"screen\",\"syncable\":false,\"top_units\":\"screen\"},\"id\":\"1392\",\"type\":\"BoxAnnotation\"},{\"attributes\":{},\"id\":\"1423\",\"type\":\"UnionRenderers\"},{\"attributes\":{\"margin\":[5,5,5,5],\"name\":\"HSpacer02147\",\"sizing_mode\":\"stretch_width\"},\"id\":\"1436\",\"type\":\"Spacer\"},{\"attributes\":{\"tools\":[{\"id\":\"1370\"},{\"id\":\"1387\"},{\"id\":\"1388\"},{\"id\":\"1389\"},{\"id\":\"1390\"},{\"id\":\"1391\"}]},\"id\":\"1393\",\"type\":\"Toolbar\"},{\"attributes\":{},\"id\":\"1378\",\"type\":\"LinearScale\"},{\"attributes\":{\"fill_color\":{\"field\":\"gender\",\"transform\":{\"id\":\"1400\"}},\"hatch_color\":{\"field\":\"gender\",\"transform\":{\"id\":\"1400\"}},\"top\":{\"field\":\"GD_Score\"},\"width\":{\"value\":0.8},\"x\":{\"field\":\"xoffsets\"}},\"id\":\"1404\",\"type\":\"VBar\"},{\"attributes\":{\"factors\":[\"female\",\"male\"],\"palette\":[\"#30a2da\",\"#fc4f30\"]},\"id\":\"1400\",\"type\":\"CategoricalColorMapper\"},{\"attributes\":{\"margin\":[5,5,5,5],\"name\":\"HSpacer02146\",\"sizing_mode\":\"stretch_width\"},\"id\":\"1367\",\"type\":\"Spacer\"}],\"root_ids\":[\"1366\"]},\"title\":\"Bokeh Application\",\"version\":\"2.4.2\"}};\n",
       "    var render_items = [{\"docid\":\"7d4d889f-8d65-4256-994d-b770f78041e3\",\"root_ids\":[\"1366\"],\"roots\":{\"1366\":\"f024f71d-c3d6-463e-a80d-8429da9d65d0\"}}];\n",
       "    root.Bokeh.embed.embed_items_notebook(docs_json, render_items);\n",
       "  }\n",
       "  if (root.Bokeh !== undefined && root.Bokeh.Panel !== undefined) {\n",
       "    embed_document(root);\n",
       "  } else {\n",
       "    var attempts = 0;\n",
       "    var timer = setInterval(function(root) {\n",
       "      if (root.Bokeh !== undefined && root.Bokeh.Panel !== undefined) {\n",
       "        clearInterval(timer);\n",
       "        embed_document(root);\n",
       "      } else if (document.readyState == \"complete\") {\n",
       "        attempts++;\n",
       "        if (attempts > 200) {\n",
       "          clearInterval(timer);\n",
       "          console.log(\"Bokeh: ERROR: Unable to run BokehJS code because BokehJS library is missing\");\n",
       "        }\n",
       "      }\n",
       "    }, 25, root)\n",
       "  }\n",
       "})(window);</script>"
      ],
      "text/plain": [
       ":Bars   [race,gender]   (GD_Score)"
      ]
     },
     "execution_count": 44,
     "metadata": {
      "application/vnd.holoviews_exec.v0+json": {
       "id": "1366"
      }
     },
     "output_type": "execute_result"
    }
   ],
   "source": [
    "# Plot (Edit y axis for count and not GD_Score)\n",
    "\n",
    "table.hvplot.bar(stacked=False, height=500, rot=60)"
   ]
  },
  {
   "cell_type": "code",
   "execution_count": 112,
   "id": "f3af1d8a",
   "metadata": {},
   "outputs": [],
   "source": [
    "#Dataset Splitting\n",
    "\n",
    "from sklearn.model_selection import train_test_split\n",
    "\n",
    "x=df.iloc[:, -1].values\n",
    "y=df.iloc[:, 4].values\n",
    "x_train, x_test, y_train, y_test = train_test_split(x,y, test_size=0.25, random_state=42)"
   ]
  },
  {
   "cell_type": "code",
   "execution_count": 113,
   "id": "cf4503c7",
   "metadata": {},
   "outputs": [
    {
     "name": "stdout",
     "output_type": "stream",
     "text": [
      "[38.   56.25 44.5  47.5  48.75 37.5  56.   75.   51.   58.25 36.   65.75\n",
      " 51.5  55.   44.5  56.   45.75 62.5  51.   70.75 56.75 44.   64.5  36.5\n",
      " 40.75 37.25 48.5  42.   35.   43.25 42.25 58.75 61.25 53.75 22.75 72.75\n",
      " 65.   56.75 40.5  59.5  61.   52.5  68.5  49.   42.25 62.75 47.75 44.5\n",
      " 30.75 62.   60.25 57.   49.5  43.25 58.25 51.25 68.   41.   68.75 52.5\n",
      " 72.75 52.   59.   44.25 34.   43.25 51.25 55.5  62.25 41.25 49.75 56.25\n",
      " 58.25 38.   30.5  51.   55.   54.   62.5  60.25 48.5  46.   63.   37.5\n",
      " 54.75 62.75 29.   50.75 61.   45.25 55.25 44.   61.75 67.25 54.25 67.25\n",
      " 34.5  73.25 53.   53.5  44.25 62.5  26.   40.25 57.5  32.75 60.25 28.75\n",
      " 46.25 60.   56.25 68.5  40.5  58.75 66.25 51.5  54.75 50.5  47.75 66.25\n",
      " 53.25 49.75 55.   50.25 69.   56.25 47.5  43.75 35.   61.75 39.5  23.75\n",
      " 52.25 62.5  49.75 46.   59.   58.   60.5  47.75 49.5  50.   61.75 49.75\n",
      " 45.75 63.5  51.25 50.5  52.5  48.75 56.5  51.25 68.75 38.5  65.   42.\n",
      " 43.   22.5  53.75 42.   61.75 51.5  62.75 54.5  51.75 66.75 42.75 45.5\n",
      " 55.5  62.   33.75 64.25 39.5  39.5  39.25 47.25 50.   28.25 59.   39.75\n",
      " 61.5  45.   50.25 64.5  58.   55.   37.   41.75 52.75 50.   60.5  42.75\n",
      " 72.25 52.25 60.25 53.5  62.   39.75 42.5  58.25 54.25 65.5  42.   38.75\n",
      " 48.   62.   54.5  57.5  32.75 49.5  35.   41.   54.75 38.75 50.   68.75\n",
      " 75.   53.75 46.75 39.   64.25 55.5  52.75 60.5  54.   33.5  33.5  54.75\n",
      " 52.25 55.75 45.75 64.5  34.   45.25 65.25 47.75 44.25 37.   53.25 53.5\n",
      " 61.75 38.75 41.25 53.5  64.   46.25 58.75 53.5  41.   52.   53.25 56.5\n",
      " 33.75 58.75 62.5  44.5  49.   33.25 63.   51.25 58.25 55.5  49.   55.75\n",
      " 32.75 44.   45.75 74.5  64.   38.   46.5  51.75 63.5  43.   51.   66.25\n",
      " 62.   48.75 50.25 34.75 48.25 44.   40.25 32.5  42.25 51.5  37.75 31.\n",
      " 56.25 49.   36.5  37.5  49.25 52.5  60.   46.   40.75 46.75 45.75 52.\n",
      " 60.75 47.   56.75 39.25 55.5  44.75 60.75 69.   45.75 59.5  42.25 62.25\n",
      " 38.25 63.75 70.75 58.25 45.   58.25 49.5  49.5  73.5  59.25 57.   39.25\n",
      " 40.5  49.25 38.   64.75 43.5  74.   57.75 43.5  41.   42.5  58.5  60.\n",
      " 44.75 37.5  63.5  65.   58.25 59.   62.25 41.5  36.75 47.75 59.75 58.5\n",
      " 50.75 51.   19.75 54.25 58.25 51.5  49.   46.75 50.25 59.   30.   62.75\n",
      " 51.5  40.75 55.75 74.25 35.   73.25 70.   53.25 57.75 44.25 51.   45.25\n",
      " 48.   65.25 66.   39.25 52.   54.75 52.5  62.   55.   53.25 56.75 56.5\n",
      " 43.   39.   44.75 50.   53.75 58.75 44.5  69.5  43.5  51.   50.75 60.5\n",
      " 46.5  51.25 46.5  43.25 59.75 45.25 70.25 69.   59.75 44.5  45.5  52.75\n",
      " 38.75 53.5  49.   57.25 52.   67.75 41.75 54.   38.75 38.   45.   42.\n",
      " 52.   50.25 39.75 55.75 47.5  60.5  53.25 72.   43.25 59.5  40.25 56.75\n",
      " 61.25 49.   31.5  59.75 54.25 56.   58.25 55.25 53.75 69.75 70.5  67.5\n",
      " 65.5  36.5  48.   53.5  50.75 49.75 48.5  36.   35.75 55.   72.   43.75\n",
      " 52.   62.   51.   45.25 44.   65.5  54.   64.75 66.75 55.5  44.25 52.5\n",
      " 46.75 37.   41.75 40.75 46.5  46.75 53.5  45.25 68.75 51.25 54.   44.5\n",
      " 60.   56.75 51.25 54.5  39.   49.5  46.25 38.   65.   42.5  62.75 37.25\n",
      " 45.75 43.75 43.5  63.   51.   57.75 53.25 69.5  45.25 41.5  47.25 52.\n",
      " 40.75 66.25 54.75 64.   60.   38.75 38.75 56.75 59.25 37.75 38.   39.75\n",
      " 69.   59.25 25.75 64.5  31.75 56.75 58.5  39.5  54.   46.   40.25 45.75\n",
      " 56.   39.25 38.75 55.25 59.25 63.25 31.25 48.   41.   58.75 59.75 66.75\n",
      " 61.   55.75 58.   33.25 60.5  51.5  72.5  63.5  56.75 65.25 51.5  73.\n",
      " 65.25 49.5  59.   41.   53.5  48.25 38.5  60.5  53.   55.   57.75 65.5\n",
      " 56.25 42.   46.75 36.5  60.5  55.75 52.   61.75 56.5  38.75 41.75 50.75\n",
      " 52.   51.75 52.75 36.25 67.5  52.5  49.75 29.   57.5  53.5  58.   38.75\n",
      " 68.75 56.25 72.25 56.5  28.25 47.   56.75 44.   45.   48.5  44.5  53.5\n",
      " 48.5  65.25 54.   59.5  57.25 53.   48.25 51.75 61.   47.75 58.   60.\n",
      " 47.5  56.   55.75 50.   51.   48.25 44.75 51.75 48.5  59.75 45.5  43.\n",
      " 42.   75.   44.25 46.25 40.5  54.75 42.75 64.25 48.25 49.25 46.75 64.5\n",
      " 49.   35.   52.75 36.   42.25 61.   32.75 47.5  49.   59.5  54.25 38.5\n",
      " 35.25 43.   66.75 29.75 54.5  56.   62.25 26.   32.25 35.   64.5  51.25\n",
      " 65.25 55.5  49.5  34.   54.75 62.   43.   62.5  52.75 36.75 56.   66.75\n",
      " 40.5  58.5  51.5  44.25 45.25 24.5  37.75 55.   36.25 57.   52.   61.75\n",
      " 55.25 50.75 44.25 50.75 51.75 39.   34.25 51.75 48.5  50.   39.   13.75\n",
      " 38.25 62.25 38.5  73.   52.5  69.5  57.   63.25 60.75 47.75 57.75 47.\n",
      " 55.   44.   68.   57.   52.   50.25 50.25 52.75 51.25 51.5  58.75 67.75\n",
      " 47.75 59.75 54.75 57.5  49.5  49.75 51.75 43.75 48.   50.5  64.   50.25\n",
      " 54.5  48.75 55.25 54.25 75.25 48.25 65.   24.   68.25 67.   49.75 60.5\n",
      " 45.5  72.   48.5  42.   38.   66.5 ]\n"
     ]
    }
   ],
   "source": [
    "print(x_train)"
   ]
  },
  {
   "cell_type": "code",
   "execution_count": 114,
   "id": "33688037",
   "metadata": {},
   "outputs": [
    {
     "name": "stdout",
     "output_type": "stream",
     "text": [
      "[ 47  82  65  62  63  53  78 100  66  83  46  87  72  75  66  74  60  86\n",
      "  60 100  85  63  84  49  59  60  69  57  45  59  63  84  80  70  28  96\n",
      "  90  73  50  73  82  70  87  58  58  88  63  59  43  89  82  81  68  58\n",
      "  79  75  93  51  87  71 100  67  79  59  46  58  72  78  92  62  68  75\n",
      "  84  57  44  70  76  74  85  81  64  60  90  51  72  82  34  67  84  61\n",
      "  68  59  86  95  74  93  48 100  72  68  64  85  34  64  73  37  78  39\n",
      "  61  73  85  97  55  85  92  70  78  62  64  85  75  72  72  67  95  79\n",
      "  64  57  42  84  52  39  74  82  68  65  79  74  81  65  67  73  82  76\n",
      "  64  85  73  73  68  71  71  67  92  54  81  63  56  38  69  59  89  70\n",
      "  90  73  70  84  55  60  78  81  42  94  52  48  59  66  64  39  76  53\n",
      "  82  62  71  89  86  81  50  64  70  68  80  62 100  70  83  73  88  54\n",
      "  60  84  76  90  54  53  64  84  76  72  43  66  49  58  77  54  67  86\n",
      " 100  73  60  54  84  79  74  86  70  45  53  75  72  76  59  86  52  67\n",
      "  88  65  58  55  76  78  82  54  58  67  83  70  82  74  58  73  72  77\n",
      "  45  84  84  58  66  49  87  72  77  66  68  75  46  59  65 100  87  54\n",
      "  61  73  86  61  72  90  82  69  64  45  70  58  51  46  65  66  49  41\n",
      "  77  66  52  49  66  75  82  62  49  67  62  68  85  67  77  55  71  61\n",
      "  84  92  65  74  55  86  50  79  93  83  64  75  73  68 100  80  79  55\n",
      "  58  61  55  85  59  97  79  58  54  62  75  80  66  61  90  91  76  86\n",
      "  85  55  49  67  89  78  68  73  32  77  81  73  66  57  65  77  45  84\n",
      "  68  54  77 100  48  99  95  74  75  54  64  60  68  88  89  50  74  72\n",
      "  66  87  74  71  78  76  61  56  54  69  66  77  60  95  64  70  70  74\n",
      "  63  67  63  58  84  64  93  89  84  60  61  76  53  75  70  80  72  95\n",
      "  55  72  58  44  58  56  69  73  56  78  69  78  67  99  61  80  60  77\n",
      "  81  64  45  81  77  80  80  76  75  96  96  89  92  50  60  74  72  67\n",
      "  65  52  51  76 100  53  68  84  72  57  60  87  74  90  90  76  57  67\n",
      "  64  43  63  56  63  56  73  54  93  69  77  56  76  73  71  72  48  64\n",
      "  72  49  92  65  81  48  57  62  56  88  70  77  74  96  58  62  72  73\n",
      "  50  92  72  91  81  48  53  76  86  51  58  57  97  78  44  87  51  78\n",
      "  72  53  71  54  61  62  75  55  48  74  79  90  43  66  52  80  86  94\n",
      "  82  74  75  43  77  73  97  85  81  85  72 100  91  68  80  52  78  62\n",
      "  52  81  69  73  79  85  79  54  68  47  81  80  68  84  81  53  58  62\n",
      "  65  62  67  52  89  75  72  42  78  71  81  56  90  71 100  74  40  67\n",
      "  76  51  66  65  61  71  72  85  77  84  79  69  64  64  82  67  83  75\n",
      "  59  77  68  68  69  66  61  69  62  82  62  49  57 100  58  64  53  74\n",
      "  61  83  64  66  62  86  66  44  72  51  60  73  43  62  67  83  75  54\n",
      "  56  55  86  42  76  81  88  39  39  43  84  62  90  73  67  43  70  90\n",
      "  58  85  74  49  71  87  58  78  71  61  58  34  55  78  51  80  72  83\n",
      "  72  66  60  78  70  51  52  76  70  72  52  24  59  86  51 100  64  90\n",
      "  75  88  85  66  76  68  71  59  90  75  68  64  70  75  67  65  78  92\n",
      "  57  83  76  81  67  64  72  60  71  66  84  69  72  67  74  71 100  60\n",
      "  91  31  89  93  69  81  55 100  63  62  48  91]\n"
     ]
    }
   ],
   "source": [
    "print(y_train)"
   ]
  },
  {
   "cell_type": "code",
   "execution_count": 115,
   "id": "1d247c63",
   "metadata": {},
   "outputs": [
    {
     "name": "stdout",
     "output_type": "stream",
     "text": [
      "[65.25 48.   56.25 56.   61.5  58.5  50.5  44.25 58.   36.75 35.25 19.75\n",
      " 57.   43.75 62.75 56.25 37.   36.25 40.   46.25 55.   37.25 47.25 33.\n",
      " 59.75 58.25 54.25 37.5  30.75 41.75 45.25 50.5  45.25 55.   58.25 38.5\n",
      " 57.   55.75 56.25  7.   58.75 48.5  49.25 46.   63.25 49.5  53.25 22.\n",
      " 65.   59.   54.   53.5  59.25 40.5  54.   54.5  62.25 41.25 61.5  66.75\n",
      " 32.75 60.75 59.25 46.5  65.75 55.25 48.75 41.   48.75 66.5  48.5  65.\n",
      " 42.25 37.5  45.25 57.75 67.25 42.75 44.75 37.   46.   30.   58.75 51.75\n",
      " 51.   48.25 55.75 51.   63.   17.75 58.   72.5  46.   53.5  22.25 52.\n",
      " 45.5  49.   55.25 48.5  55.75 44.   44.25 51.5  52.25 48.75 34.5  56.75\n",
      " 57.5  39.25 29.25 60.   40.5  42.   62.   43.25 36.75 36.   52.5  59.\n",
      " 47.5  48.   61.5  55.25 49.75 50.25 57.   54.75 36.   52.   57.   56.\n",
      " 35.75 70.5  51.5  29.5  65.25 60.75 55.   35.25 40.25 49.25 43.25 35.\n",
      " 59.25 40.5  29.5  54.75 38.   60.25 58.25 58.75 46.25 46.5  66.25 54.5\n",
      " 39.75 50.25 56.5  39.   51.75 49.5  57.25 40.   63.   52.   34.25 66.5\n",
      " 49.75 57.5  62.   53.75 66.25 59.   41.25 23.5  39.75 57.   69.   57.\n",
      " 46.75 52.5  70.25 44.25 64.75 45.5  51.   42.   52.75 64.25 37.75 43.75\n",
      " 52.   58.5  42.   41.5  43.   58.   54.   52.   52.   58.   63.5  48.5\n",
      " 48.5  17.25 74.25 53.5  49.75 39.5  48.25 46.5  49.5  52.5  49.   30.\n",
      " 51.5  45.5  63.5  63.75 51.5  42.   55.75 62.25 23.   69.75 48.25 46.75\n",
      " 58.75 42.25 55.   47.   42.   37.   30.25 47.5  33.   54.   48.25 62.5\n",
      " 37.25 35.75 67.   41.   67.   51.75 47.5  60.   29.   67.  ]\n"
     ]
    }
   ],
   "source": [
    "print(x_test)"
   ]
  },
  {
   "cell_type": "code",
   "execution_count": 116,
   "id": "b49daf50",
   "metadata": {},
   "outputs": [
    {
     "name": "stdout",
     "output_type": "stream",
     "text": [
      "[ 86  66  73  77  83  75  70  61  73  54  47  26  80  65  81  78  52  46\n",
      "  58  65  72  51  73  53  79  75  74  59  48  58  61  61  63  71  77  53\n",
      "  78  77  78  17  75  66  61  63  87  63  70  29  88  82  75  76  79  56\n",
      "  73  74  78  54  85  90  41  84  77  61  89  74  71  53  63  95  63  88\n",
      "  57  57  60  76  86  56  66  52  61  37  78  72  71  67  78  70  90  23\n",
      "  81  92  58  77  38  68  63  70  80  68  78  57  57  73  74  65  45  81\n",
      "  83  61  41  87  51  59  83  56  52  41  69  77  67  67  81  79  60  66\n",
      "  75  74  42  73  82  75  42  99  74  41  92  83  74  51  56  70  59  48\n",
      "  74  61  31  74  52  86  79  86  65  63  91  70  57  72  74  51  79  62\n",
      "  79  56  82  74  46  90  64  76  84  71  89  86  47  34  52  81  94  82\n",
      "  64  76  95  61  85  55  72  58  66  84  50  54  67  79  51  57  56  81\n",
      "  77  74  70  83  89  67  64  24 100  77  64  58  64  62  64  69  67  37\n",
      "  63  60  84  87  67  58  82  84  29  95  63  65  84  60  73  63  59  55\n",
      "  42  65  43  76  64  78  57  41  97  55  87  64  66  78  39  82]\n"
     ]
    }
   ],
   "source": [
    "print(y_test)"
   ]
  },
  {
   "cell_type": "code",
   "execution_count": 117,
   "id": "67ba9284",
   "metadata": {},
   "outputs": [
    {
     "data": {
      "text/plain": [
       "750"
      ]
     },
     "execution_count": 117,
     "metadata": {},
     "output_type": "execute_result"
    }
   ],
   "source": [
    "len(x_train)\n"
   ]
  },
  {
   "cell_type": "code",
   "execution_count": 118,
   "id": "0acc2fb8",
   "metadata": {},
   "outputs": [
    {
     "data": {
      "text/plain": [
       "250"
      ]
     },
     "execution_count": 118,
     "metadata": {},
     "output_type": "execute_result"
    }
   ],
   "source": [
    "len(x_test)"
   ]
  },
  {
   "cell_type": "code",
   "execution_count": 119,
   "id": "a736bdca",
   "metadata": {},
   "outputs": [
    {
     "data": {
      "text/plain": [
       "750"
      ]
     },
     "execution_count": 119,
     "metadata": {},
     "output_type": "execute_result"
    }
   ],
   "source": [
    "len(y_train)"
   ]
  },
  {
   "cell_type": "code",
   "execution_count": 120,
   "id": "ba969036",
   "metadata": {},
   "outputs": [
    {
     "data": {
      "text/plain": [
       "250"
      ]
     },
     "execution_count": 120,
     "metadata": {},
     "output_type": "execute_result"
    }
   ],
   "source": [
    "len(y_test)"
   ]
  },
  {
   "cell_type": "code",
   "execution_count": 140,
   "id": "d8e2cc3f",
   "metadata": {},
   "outputs": [
    {
     "data": {
      "text/plain": [
       "1"
      ]
     },
     "execution_count": 140,
     "metadata": {},
     "output_type": "execute_result"
    }
   ],
   "source": [
    "x_train.ndim"
   ]
  },
  {
   "cell_type": "code",
   "execution_count": 141,
   "id": "e9bff705",
   "metadata": {},
   "outputs": [
    {
     "data": {
      "text/plain": [
       "1"
      ]
     },
     "execution_count": 141,
     "metadata": {},
     "output_type": "execute_result"
    }
   ],
   "source": [
    "y_train.ndim"
   ]
  },
  {
   "cell_type": "code",
   "execution_count": 142,
   "id": "293d78ad",
   "metadata": {},
   "outputs": [
    {
     "data": {
      "text/plain": [
       "(750,)"
      ]
     },
     "execution_count": 142,
     "metadata": {},
     "output_type": "execute_result"
    }
   ],
   "source": [
    "x_train.shape"
   ]
  },
  {
   "cell_type": "code",
   "execution_count": 143,
   "id": "d28177d9",
   "metadata": {},
   "outputs": [
    {
     "data": {
      "text/plain": [
       "(750,)"
      ]
     },
     "execution_count": 143,
     "metadata": {},
     "output_type": "execute_result"
    }
   ],
   "source": [
    "y_train.shape"
   ]
  },
  {
   "cell_type": "code",
   "execution_count": 144,
   "id": "e9cfe7a4",
   "metadata": {},
   "outputs": [],
   "source": [
    "x_train=x_train.reshape(-1,1)"
   ]
  },
  {
   "cell_type": "code",
   "execution_count": 145,
   "id": "642a37b0",
   "metadata": {},
   "outputs": [
    {
     "data": {
      "text/plain": [
       "(750, 1)"
      ]
     },
     "execution_count": 145,
     "metadata": {},
     "output_type": "execute_result"
    }
   ],
   "source": [
    "x_train.shape"
   ]
  },
  {
   "cell_type": "code",
   "execution_count": 151,
   "id": "6af058cf",
   "metadata": {},
   "outputs": [],
   "source": [
    "x_test=x_test.reshape(-1,1)"
   ]
  },
  {
   "cell_type": "code",
   "execution_count": 152,
   "id": "322fea89",
   "metadata": {},
   "outputs": [
    {
     "data": {
      "text/plain": [
       "2"
      ]
     },
     "execution_count": 152,
     "metadata": {},
     "output_type": "execute_result"
    }
   ],
   "source": [
    "x_test.ndim"
   ]
  },
  {
   "cell_type": "code",
   "execution_count": 153,
   "id": "f0cc45f1",
   "metadata": {},
   "outputs": [
    {
     "name": "stderr",
     "output_type": "stream",
     "text": [
      "D:\\ISHAN\\Anaconda\\lib\\site-packages\\sklearn\\neighbors\\_classification.py:179: DataConversionWarning: A column-vector y was passed when a 1d array was expected. Please change the shape of y to (n_samples,), for example using ravel().\n",
      "  return self._fit(X, y)\n"
     ]
    },
    {
     "data": {
      "text/plain": [
       "KNeighborsClassifier()"
      ]
     },
     "execution_count": 153,
     "metadata": {},
     "output_type": "execute_result"
    }
   ],
   "source": [
    "# KNN Classification on datasets\n",
    "\n",
    "from sklearn.neighbors import KNeighborsClassifier\n",
    "classifier = KNeighborsClassifier(n_neighbors=5)\n",
    "classifier.fit(x_train,y_train)\n",
    "\n"
   ]
  },
  {
   "cell_type": "code",
   "execution_count": 155,
   "id": "ff62c5fa",
   "metadata": {},
   "outputs": [],
   "source": [
    "y_pred=classifier.predict(x_test)"
   ]
  },
  {
   "cell_type": "code",
   "execution_count": 157,
   "id": "f6d252c9",
   "metadata": {},
   "outputs": [
    {
     "name": "stdout",
     "output_type": "stream",
     "text": [
      "              precision    recall  f1-score   support\n",
      "\n",
      "          17       0.00      0.00      0.00         1\n",
      "          23       0.00      0.00      0.00         1\n",
      "          24       0.33      1.00      0.50         1\n",
      "          26       0.00      0.00      0.00         1\n",
      "          28       0.00      0.00      0.00         0\n",
      "          29       0.00      0.00      0.00         2\n",
      "          31       0.00      0.00      0.00         1\n",
      "          34       0.00      0.00      0.00         1\n",
      "          37       0.00      0.00      0.00         2\n",
      "          38       0.00      0.00      0.00         1\n",
      "          39       1.00      1.00      1.00         1\n",
      "          41       0.00      0.00      0.00         5\n",
      "          42       0.00      0.00      0.00         3\n",
      "          43       0.11      1.00      0.20         1\n",
      "          44       0.00      0.00      0.00         0\n",
      "          45       0.00      0.00      0.00         1\n",
      "          46       0.00      0.00      0.00         2\n",
      "          47       0.00      0.00      0.00         2\n",
      "          48       0.00      0.00      0.00         2\n",
      "          49       0.00      0.00      0.00         0\n",
      "          50       0.00      0.00      0.00         1\n",
      "          51       0.00      0.00      0.00         5\n",
      "          52       0.00      0.00      0.00         5\n",
      "          53       0.00      0.00      0.00         3\n",
      "          54       0.00      0.00      0.00         3\n",
      "          55       0.12      0.33      0.18         3\n",
      "          56       0.00      0.00      0.00         6\n",
      "          57       0.00      0.00      0.00         7\n",
      "          58       0.00      0.00      0.00         6\n",
      "          59       0.00      0.00      0.00         4\n",
      "          60       0.00      0.00      0.00         4\n",
      "          61       0.00      0.00      0.00         9\n",
      "          62       0.00      0.00      0.00         2\n",
      "          63       0.33      0.20      0.25        10\n",
      "          64       0.33      0.25      0.29         8\n",
      "          65       0.00      0.00      0.00         6\n",
      "          66       0.00      0.00      0.00         6\n",
      "          67       0.00      0.00      0.00         7\n",
      "          68       0.00      0.00      0.00         2\n",
      "          69       0.00      0.00      0.00         2\n",
      "          70       0.00      0.00      0.00         7\n",
      "          71       0.00      0.00      0.00         4\n",
      "          72       0.00      0.00      0.00         4\n",
      "          73       0.11      0.14      0.12         7\n",
      "          74       0.14      0.08      0.11        12\n",
      "          75       0.17      0.33      0.22         6\n",
      "          76       0.00      0.00      0.00         5\n",
      "          77       0.11      0.12      0.12         8\n",
      "          78       0.00      0.00      0.00         9\n",
      "          79       0.17      0.14      0.15         7\n",
      "          80       0.00      0.00      0.00         2\n",
      "          81       0.50      0.17      0.25         6\n",
      "          82       0.00      0.00      0.00         6\n",
      "          83       0.00      0.00      0.00         5\n",
      "          84       0.00      0.00      0.00         6\n",
      "          85       0.00      0.00      0.00         2\n",
      "          86       0.00      0.00      0.00         5\n",
      "          87       0.00      0.00      0.00         4\n",
      "          88       0.00      0.00      0.00         2\n",
      "          89       0.00      0.00      0.00         3\n",
      "          90       0.50      0.33      0.40         3\n",
      "          91       0.00      0.00      0.00         1\n",
      "          92       0.00      0.00      0.00         2\n",
      "          93       0.00      0.00      0.00         0\n",
      "          94       0.00      0.00      0.00         1\n",
      "          95       1.00      0.33      0.50         3\n",
      "          96       0.00      0.00      0.00         0\n",
      "          97       0.00      0.00      0.00         1\n",
      "          99       0.00      0.00      0.00         1\n",
      "         100       0.50      1.00      0.67         1\n",
      "\n",
      "    accuracy                           0.07       250\n",
      "   macro avg       0.08      0.09      0.07       250\n",
      "weighted avg       0.09      0.07      0.07       250\n",
      "\n",
      "[[0 0 1 ... 0 0 0]\n",
      " [0 0 1 ... 0 0 0]\n",
      " [0 0 1 ... 0 0 0]\n",
      " ...\n",
      " [0 0 0 ... 0 0 0]\n",
      " [0 0 0 ... 0 0 0]\n",
      " [0 0 0 ... 0 0 1]]\n",
      "0.072\n"
     ]
    },
    {
     "name": "stderr",
     "output_type": "stream",
     "text": [
      "D:\\ISHAN\\Anaconda\\lib\\site-packages\\sklearn\\metrics\\_classification.py:1245: UndefinedMetricWarning: Precision and F-score are ill-defined and being set to 0.0 in labels with no predicted samples. Use `zero_division` parameter to control this behavior.\n",
      "  _warn_prf(average, modifier, msg_start, len(result))\n",
      "D:\\ISHAN\\Anaconda\\lib\\site-packages\\sklearn\\metrics\\_classification.py:1245: UndefinedMetricWarning: Recall and F-score are ill-defined and being set to 0.0 in labels with no true samples. Use `zero_division` parameter to control this behavior.\n",
      "  _warn_prf(average, modifier, msg_start, len(result))\n",
      "D:\\ISHAN\\Anaconda\\lib\\site-packages\\sklearn\\metrics\\_classification.py:1245: UndefinedMetricWarning: Precision and F-score are ill-defined and being set to 0.0 in labels with no predicted samples. Use `zero_division` parameter to control this behavior.\n",
      "  _warn_prf(average, modifier, msg_start, len(result))\n",
      "D:\\ISHAN\\Anaconda\\lib\\site-packages\\sklearn\\metrics\\_classification.py:1245: UndefinedMetricWarning: Recall and F-score are ill-defined and being set to 0.0 in labels with no true samples. Use `zero_division` parameter to control this behavior.\n",
      "  _warn_prf(average, modifier, msg_start, len(result))\n",
      "D:\\ISHAN\\Anaconda\\lib\\site-packages\\sklearn\\metrics\\_classification.py:1245: UndefinedMetricWarning: Precision and F-score are ill-defined and being set to 0.0 in labels with no predicted samples. Use `zero_division` parameter to control this behavior.\n",
      "  _warn_prf(average, modifier, msg_start, len(result))\n",
      "D:\\ISHAN\\Anaconda\\lib\\site-packages\\sklearn\\metrics\\_classification.py:1245: UndefinedMetricWarning: Recall and F-score are ill-defined and being set to 0.0 in labels with no true samples. Use `zero_division` parameter to control this behavior.\n",
      "  _warn_prf(average, modifier, msg_start, len(result))\n"
     ]
    }
   ],
   "source": [
    "from sklearn.metrics import classification_report, confusion_matrix, accuracy_score\n",
    "\n",
    "print(classification_report(y_test,y_pred))\n",
    "print(confusion_matrix(y_test,y_pred))\n",
    "print(accuracy_score(y_test,y_pred))\n",
    "\n"
   ]
  },
  {
   "cell_type": "code",
   "execution_count": 159,
   "id": "9a3eae7c",
   "metadata": {},
   "outputs": [],
   "source": [
    "#Implementing Random Forest Model\n",
    "\n",
    "from sklearn.ensemble import RandomForestRegressor\n",
    "rf=RandomForestRegressor(random_state=42)\n"
   ]
  },
  {
   "cell_type": "code",
   "execution_count": 162,
   "id": "6ae3589a",
   "metadata": {},
   "outputs": [
    {
     "name": "stderr",
     "output_type": "stream",
     "text": [
      "<ipython-input-162-688bae33ae7d>:1: DataConversionWarning: A column-vector y was passed when a 1d array was expected. Please change the shape of y to (n_samples,), for example using ravel().\n",
      "  rfModel = rf.fit(x_train, y_train)\n"
     ]
    }
   ],
   "source": [
    "#Fitting the RF Model on training data\n",
    "\n",
    "rfModel = rf.fit(x_train, y_train)"
   ]
  },
  {
   "cell_type": "code",
   "execution_count": 168,
   "id": "b3867b33",
   "metadata": {},
   "outputs": [
    {
     "name": "stdout",
     "output_type": "stream",
     "text": [
      "[87.73604804 65.4926562  78.4433934  76.7354402  81.65410714 75.8430119\n",
      " 67.34082143 58.9293631  80.00332792 49.11758333 51.88976587 33.37\n",
      " 77.84364286 57.97928571 85.11120618 78.4433934  49.93359524 51.30811905\n",
      " 54.9912381  66.63445996 74.99862947 53.06533333 68.94569048 42.0580671\n",
      " 84.14691789 80.2494572  75.07700289 53.34395887 43.05       59.68728175\n",
      " 59.88768287 67.34082143 59.88768287 74.99862947 80.2494572  52.87979978\n",
      " 77.84364286 75.42509205 78.4433934  27.45       81.42170382 66.02434837\n",
      " 64.53289286 59.96322222 88.895      67.56957398 72.72581169 36.15\n",
      " 88.62962266 79.32688095 73.56460384 72.82337455 80.58215873 54.98915115\n",
      " 73.56460384 73.80774928 87.45774964 59.15252381 81.65410714 87.86925\n",
      " 42.0580671  84.30447222 80.58215873 62.58828571 87.49396429 72.79981602\n",
      " 67.42793651 54.07295851 67.42793651 90.62445238 66.02434837 88.62962266\n",
      " 60.00104942 53.34395887 59.88768287 77.11773737 93.82033333 59.83077381\n",
      " 60.3464881  49.93359524 59.96322222 44.23333333 81.42170382 69.39119725\n",
      " 68.90975468 64.44333045 75.42509205 68.90975468 88.17606349 31.21\n",
      " 80.00332792 98.01       59.96322222 72.82337455 36.17       69.78225825\n",
      " 59.59377381 65.62244275 72.79981602 66.02434837 75.42509205 58.30079437\n",
      " 58.9293631  70.12877104 71.99845527 67.42793651 48.823      77.43267179\n",
      " 76.35392063 54.92348016 38.79066667 77.94504004 54.98915115 57.77665081\n",
      " 85.75020932 58.78806746 49.11758333 49.79080952 69.33695635 79.32688095\n",
      " 63.34824603 65.4926562  81.65410714 72.79981602 69.54749863 67.88094669\n",
      " 77.84364286 74.01581976 49.79080952 69.78225825 77.84364286 76.7354402\n",
      " 50.66733333 95.50416667 70.12877104 40.65333333 87.73604804 84.30447222\n",
      " 74.99862947 51.88976587 58.44172619 64.53289286 58.78806746 45.25232234\n",
      " 80.58215873 54.98915115 40.65333333 74.01581976 51.39112599 80.90575649\n",
      " 80.2494572  81.42170382 66.63445996 62.58828571 89.8565689  73.80774928\n",
      " 54.91009524 67.88094669 75.94118651 52.34104365 69.39119725 67.56957398\n",
      " 79.32894444 54.9912381  88.17606349 69.78225825 50.538      90.62445238\n",
      " 69.54749863 76.35392063 85.75020932 70.27628247 89.8565689  79.32688095\n",
      " 59.15252381 36.02       54.91009524 77.84364286 93.48186075 77.84364286\n",
      " 61.92803799 69.33695635 94.01166667 58.9293631  87.2199881  59.59377381\n",
      " 68.90975468 57.77665081 72.35390748 87.08622294 51.77942857 57.97928571\n",
      " 69.78225825 75.8430119  57.77665081 58.54283333 56.67036291 80.00332792\n",
      " 73.56460384 69.78225825 69.78225825 80.00332792 86.65285714 66.02434837\n",
      " 66.02434837 31.21       99.49       72.82337455 69.54749863 51.16668651\n",
      " 64.44333045 62.58828571 67.56957398 69.33695635 65.62244275 44.23333333\n",
      " 70.12877104 59.59377381 86.65285714 81.79659524 70.12877104 57.77665081\n",
      " 75.42509205 87.45774964 31.91       95.27884524 64.44333045 61.92803799\n",
      " 81.42170382 60.00104942 74.99862947 67.15751587 57.77665081 49.93359524\n",
      " 44.41       63.34824603 42.0580671  73.56460384 64.44333045 84.48815837\n",
      " 53.06533333 50.66733333 91.3374881  54.07295851 91.3374881  69.39119725\n",
      " 63.34824603 77.94504004 38.71733333 91.3374881 ]\n"
     ]
    }
   ],
   "source": [
    "#Prediction using the test data\n",
    "\n",
    "y_pred = rfModel.predict(x_test) \n",
    "\n",
    "print(y_pred)"
   ]
  },
  {
   "cell_type": "code",
   "execution_count": 164,
   "id": "a64d0758",
   "metadata": {},
   "outputs": [],
   "source": [
    "#Importing Regression metrics\n",
    "\n",
    "from sklearn.metrics import mean_absolute_error, mean_squared_error\n"
   ]
  },
  {
   "cell_type": "code",
   "execution_count": 165,
   "id": "74af772c",
   "metadata": {},
   "outputs": [],
   "source": [
    "#Calculating the performance of the RF Model\n",
    "\n",
    "mae = mean_absolute_error(y_test, y_pred)\n",
    "mse = mean_squared_error(y_test, y_pred)\n",
    "\n"
   ]
  },
  {
   "cell_type": "code",
   "execution_count": 166,
   "id": "2c2f1d60",
   "metadata": {},
   "outputs": [
    {
     "name": "stdout",
     "output_type": "stream",
     "text": [
      "3.2227370349791262\n"
     ]
    }
   ],
   "source": [
    "print(mae)"
   ]
  },
  {
   "cell_type": "code",
   "execution_count": 167,
   "id": "e1324ee5",
   "metadata": {},
   "outputs": [
    {
     "name": "stdout",
     "output_type": "stream",
     "text": [
      "16.629218391069443\n"
     ]
    }
   ],
   "source": [
    "print(mse)"
   ]
  },
  {
   "cell_type": "code",
   "execution_count": null,
   "id": "f51b5c4d",
   "metadata": {},
   "outputs": [],
   "source": []
  }
 ],
 "metadata": {
  "kernelspec": {
   "display_name": "Python 3",
   "language": "python",
   "name": "python3"
  },
  "language_info": {
   "codemirror_mode": {
    "name": "ipython",
    "version": 3
   },
   "file_extension": ".py",
   "mimetype": "text/x-python",
   "name": "python",
   "nbconvert_exporter": "python",
   "pygments_lexer": "ipython3",
   "version": "3.8.8"
  }
 },
 "nbformat": 4,
 "nbformat_minor": 5
}
